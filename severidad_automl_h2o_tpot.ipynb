{
  "nbformat": 4,
  "nbformat_minor": 0,
  "metadata": {
    "colab": {
      "name": "severidad_automl_h2o_tpot.ipynb",
      "provenance": [],
      "collapsed_sections": []
    },
    "kernelspec": {
      "name": "python3",
      "display_name": "Python 3"
    }
  },
  "cells": [
    {
      "cell_type": "markdown",
      "metadata": {
        "id": "jl1dqjZwzeHw",
        "colab_type": "text"
      },
      "source": [
        "## Exploraroty Data Analysis"
      ]
    },
    {
      "cell_type": "code",
      "metadata": {
        "id": "8euyHrsXqYLP",
        "colab_type": "code",
        "colab": {
          "base_uri": "https://localhost:8080/",
          "height": 419
        },
        "outputId": "13c4813f-2d40-4d07-9219-ce333b501fbe"
      },
      "source": [
        "import pandas as pd\n",
        "import numpy as np\n",
        "\n",
        "train = pd.read_csv('https://raw.githubusercontent.com/gjhernandezp/AutoMLInterpretabityCarInsurancePricing/master/SEVERIDAD.txt',sep='\\t')\n",
        "train"
      ],
      "execution_count": null,
      "outputs": [
        {
          "output_type": "execute_result",
          "data": {
            "text/html": [
              "<div>\n",
              "<style scoped>\n",
              "    .dataframe tbody tr th:only-of-type {\n",
              "        vertical-align: middle;\n",
              "    }\n",
              "\n",
              "    .dataframe tbody tr th {\n",
              "        vertical-align: top;\n",
              "    }\n",
              "\n",
              "    .dataframe thead th {\n",
              "        text-align: right;\n",
              "    }\n",
              "</style>\n",
              "<table border=\"1\" class=\"dataframe\">\n",
              "  <thead>\n",
              "    <tr style=\"text-align: right;\">\n",
              "      <th></th>\n",
              "      <th>MONTO</th>\n",
              "      <th>CLASE</th>\n",
              "      <th>MARCA</th>\n",
              "      <th>MODELO</th>\n",
              "      <th>CLASEPOLIZA</th>\n",
              "      <th>ZONA</th>\n",
              "      <th>SEXO</th>\n",
              "      <th>EDAD</th>\n",
              "      <th>VALOR</th>\n",
              "    </tr>\n",
              "  </thead>\n",
              "  <tbody>\n",
              "    <tr>\n",
              "      <th>0</th>\n",
              "      <td>0.716792</td>\n",
              "      <td>AU</td>\n",
              "      <td>CH</td>\n",
              "      <td>M6</td>\n",
              "      <td>POLIZA INDIVIDUAL</td>\n",
              "      <td>AN</td>\n",
              "      <td>M</td>\n",
              "      <td>E4</td>\n",
              "      <td>V2</td>\n",
              "    </tr>\n",
              "    <tr>\n",
              "      <th>1</th>\n",
              "      <td>0.436689</td>\n",
              "      <td>AU</td>\n",
              "      <td>MZ</td>\n",
              "      <td>M8</td>\n",
              "      <td>POLIZA INDIVIDUAL</td>\n",
              "      <td>AN</td>\n",
              "      <td>F</td>\n",
              "      <td>E4</td>\n",
              "      <td>V1</td>\n",
              "    </tr>\n",
              "    <tr>\n",
              "      <th>2</th>\n",
              "      <td>4.301685</td>\n",
              "      <td>AU</td>\n",
              "      <td>KO</td>\n",
              "      <td>M6</td>\n",
              "      <td>POLIZA INDIVIDUAL</td>\n",
              "      <td>AN</td>\n",
              "      <td>F</td>\n",
              "      <td>E4</td>\n",
              "      <td>V2</td>\n",
              "    </tr>\n",
              "    <tr>\n",
              "      <th>3</th>\n",
              "      <td>3.959068</td>\n",
              "      <td>AU</td>\n",
              "      <td>CH</td>\n",
              "      <td>M7</td>\n",
              "      <td>POLIZA INDIVIDUAL</td>\n",
              "      <td>AN</td>\n",
              "      <td>M</td>\n",
              "      <td>E5</td>\n",
              "      <td>V2</td>\n",
              "    </tr>\n",
              "    <tr>\n",
              "      <th>4</th>\n",
              "      <td>1.779130</td>\n",
              "      <td>AU</td>\n",
              "      <td>CH</td>\n",
              "      <td>M2</td>\n",
              "      <td>POLIZA INDIVIDUAL</td>\n",
              "      <td>AN</td>\n",
              "      <td>F</td>\n",
              "      <td>E1</td>\n",
              "      <td>V3</td>\n",
              "    </tr>\n",
              "    <tr>\n",
              "      <th>...</th>\n",
              "      <td>...</td>\n",
              "      <td>...</td>\n",
              "      <td>...</td>\n",
              "      <td>...</td>\n",
              "      <td>...</td>\n",
              "      <td>...</td>\n",
              "      <td>...</td>\n",
              "      <td>...</td>\n",
              "      <td>...</td>\n",
              "    </tr>\n",
              "    <tr>\n",
              "      <th>9884</th>\n",
              "      <td>0.206876</td>\n",
              "      <td>AU</td>\n",
              "      <td>CH</td>\n",
              "      <td>M6</td>\n",
              "      <td>POLIZA COLECTIVA</td>\n",
              "      <td>AN</td>\n",
              "      <td>F</td>\n",
              "      <td>E5</td>\n",
              "      <td>V2</td>\n",
              "    </tr>\n",
              "    <tr>\n",
              "      <th>9885</th>\n",
              "      <td>10.308720</td>\n",
              "      <td>PD</td>\n",
              "      <td>CH</td>\n",
              "      <td>M2</td>\n",
              "      <td>POLIZA COLECTIVA</td>\n",
              "      <td>BG</td>\n",
              "      <td>M</td>\n",
              "      <td>E4</td>\n",
              "      <td>V5</td>\n",
              "    </tr>\n",
              "    <tr>\n",
              "      <th>9886</th>\n",
              "      <td>11.368624</td>\n",
              "      <td>AU</td>\n",
              "      <td>EU</td>\n",
              "      <td>M6</td>\n",
              "      <td>POLIZA INDIVIDUAL</td>\n",
              "      <td>AN</td>\n",
              "      <td>M</td>\n",
              "      <td>E2</td>\n",
              "      <td>V3</td>\n",
              "    </tr>\n",
              "    <tr>\n",
              "      <th>9887</th>\n",
              "      <td>0.239930</td>\n",
              "      <td>AU</td>\n",
              "      <td>KO</td>\n",
              "      <td>M6</td>\n",
              "      <td>POLIZA INDIVIDUAL</td>\n",
              "      <td>AN</td>\n",
              "      <td>M</td>\n",
              "      <td>E5</td>\n",
              "      <td>V2</td>\n",
              "    </tr>\n",
              "    <tr>\n",
              "      <th>9888</th>\n",
              "      <td>0.258946</td>\n",
              "      <td>PD</td>\n",
              "      <td>MZ</td>\n",
              "      <td>M1</td>\n",
              "      <td>POLIZA INDIVIDUAL</td>\n",
              "      <td>AN</td>\n",
              "      <td>F</td>\n",
              "      <td>E4</td>\n",
              "      <td>V5</td>\n",
              "    </tr>\n",
              "  </tbody>\n",
              "</table>\n",
              "<p>9889 rows × 9 columns</p>\n",
              "</div>"
            ],
            "text/plain": [
              "          MONTO CLASE MARCA MODELO        CLASEPOLIZA ZONA SEXO EDAD VALOR\n",
              "0      0.716792    AU    CH     M6  POLIZA INDIVIDUAL   AN    M   E4    V2\n",
              "1      0.436689    AU    MZ     M8  POLIZA INDIVIDUAL   AN    F   E4    V1\n",
              "2      4.301685    AU    KO     M6  POLIZA INDIVIDUAL   AN    F   E4    V2\n",
              "3      3.959068    AU    CH     M7  POLIZA INDIVIDUAL   AN    M   E5    V2\n",
              "4      1.779130    AU    CH     M2  POLIZA INDIVIDUAL   AN    F   E1    V3\n",
              "...         ...   ...   ...    ...                ...  ...  ...  ...   ...\n",
              "9884   0.206876    AU    CH     M6   POLIZA COLECTIVA   AN    F   E5    V2\n",
              "9885  10.308720    PD    CH     M2   POLIZA COLECTIVA   BG    M   E4    V5\n",
              "9886  11.368624    AU    EU     M6  POLIZA INDIVIDUAL   AN    M   E2    V3\n",
              "9887   0.239930    AU    KO     M6  POLIZA INDIVIDUAL   AN    M   E5    V2\n",
              "9888   0.258946    PD    MZ     M1  POLIZA INDIVIDUAL   AN    F   E4    V5\n",
              "\n",
              "[9889 rows x 9 columns]"
            ]
          },
          "metadata": {
            "tags": []
          },
          "execution_count": 1
        }
      ]
    },
    {
      "cell_type": "code",
      "metadata": {
        "id": "YXLASXBDz36r",
        "colab_type": "code",
        "colab": {}
      },
      "source": [
        "import matplotlib.pyplot as plt"
      ],
      "execution_count": null,
      "outputs": []
    },
    {
      "cell_type": "code",
      "metadata": {
        "id": "k2MdXDOg0Zaf",
        "colab_type": "code",
        "colab": {
          "base_uri": "https://localhost:8080/",
          "height": 264
        },
        "outputId": "65fd62ad-005f-4f5f-e6e3-29f1ceb9f5b8"
      },
      "source": [
        "pie_data = train.groupby('CLASE').agg('count')\n",
        "labels = pie_data[\"EDAD\"].sort_values().index \n",
        "cmap = plt.get_cmap('Spectral')\n",
        "colors = [cmap(i) for i in np.linspace(0, 1, 8)]\n",
        "plt.pie(pie_data[\"EDAD\"].sort_values(), labels=labels, autopct='%1.1f%%',shadow=True, colors=colors)\n",
        "plt.title('Distribución de CLASE')\n",
        "plt.show()"
      ],
      "execution_count": null,
      "outputs": [
        {
          "output_type": "display_data",
          "data": {
            "image/png": "[encoded data removed]",
            "text/plain": [
              "<Figure size 432x288 with 1 Axes>"
            ]
          },
          "metadata": {
            "tags": []
          }
        }
      ]
    },
    {
      "cell_type": "code",
      "metadata": {
        "id": "dAlP0rnh09z2",
        "colab_type": "code",
        "colab": {
          "base_uri": "https://localhost:8080/",
          "height": 312
        },
        "outputId": "dad04afb-2cef-4a7e-8077-4852160a963f"
      },
      "source": [
        "n, bins, patches = plt.hist(x=train[\"CLASE\"], bins='auto', alpha=0.7, rwidth=0.85)\n",
        "plt.grid(axis='y', alpha=0.75)\n",
        "plt.xlabel('Edad')\n",
        "plt.ylabel('Frecuencia')\n",
        "plt.title('Distribución de CLASE')\n",
        "maxfreq = n.max()\n",
        "# Set a clean upper y-axis limit.\n",
        "plt.ylim(ymax=np.ceil(maxfreq / 10) * 10 if maxfreq % 10 else maxfreq + 10)"
      ],
      "execution_count": null,
      "outputs": [
        {
          "output_type": "execute_result",
          "data": {
            "text/plain": [
              "(0.0, 7630.0)"
            ]
          },
          "metadata": {
            "tags": []
          },
          "execution_count": 4
        },
        {
          "output_type": "display_data",
          "data": {
            "image/png": "[encoded data removed]",
            "text/plain": [
              "<Figure size 432x288 with 1 Axes>"
            ]
          },
          "metadata": {
            "tags": [],
            "needs_background": "light"
          }
        }
      ]
    },
    {
      "cell_type": "code",
      "metadata": {
        "id": "jEQwuJLe04ej",
        "colab_type": "code",
        "colab": {
          "base_uri": "https://localhost:8080/",
          "height": 264
        },
        "outputId": "4f5e35c2-a2e9-4017-f98e-2e1094605b0b"
      },
      "source": [
        "pie_data = train.groupby('MARCA').agg('count')\n",
        "labels = pie_data[\"EDAD\"].sort_values().index \n",
        "cmap = plt.get_cmap('Spectral')\n",
        "colors = [cmap(i) for i in np.linspace(0, 1, 8)]\n",
        "plt.pie(pie_data[\"EDAD\"].sort_values(), labels=labels, autopct='%1.1f%%',shadow=True, colors=colors)\n",
        "plt.title('Distribución de MARCA')\n",
        "plt.show()"
      ],
      "execution_count": null,
      "outputs": [
        {
          "output_type": "display_data",
          "data": {
            "image/png": "[encoded data removed]",
            "text/plain": [
              "<Figure size 432x288 with 1 Axes>"
            ]
          },
          "metadata": {
            "tags": []
          }
        }
      ]
    },
    {
      "cell_type": "code",
      "metadata": {
        "id": "iU6RDHKf1gSb",
        "colab_type": "code",
        "colab": {
          "base_uri": "https://localhost:8080/",
          "height": 312
        },
        "outputId": "ec46ff8d-87f0-47c8-a0fd-af9672500c6a"
      },
      "source": [
        "n, bins, patches = plt.hist(x=train[\"MARCA\"], bins='auto', alpha=0.7, rwidth=0.85)\n",
        "plt.grid(axis='y', alpha=0.75)\n",
        "plt.xlabel('Edad')\n",
        "plt.ylabel('Frecuencia')\n",
        "plt.title('Distribución de MARCA')\n",
        "maxfreq = n.max()\n",
        "# Set a clean upper y-axis limit.\n",
        "plt.ylim(ymax=np.ceil(maxfreq / 10) * 10 if maxfreq % 10 else maxfreq + 10)"
      ],
      "execution_count": null,
      "outputs": [
        {
          "output_type": "execute_result",
          "data": {
            "text/plain": [
              "(0.0, 3230.0)"
            ]
          },
          "metadata": {
            "tags": []
          },
          "execution_count": 6
        },
        {
          "output_type": "display_data",
          "data": {
            "image/png": "[encoded data removed]",
            "text/plain": [
              "<Figure size 432x288 with 1 Axes>"
            ]
          },
          "metadata": {
            "tags": [],
            "needs_background": "light"
          }
        }
      ]
    },
    {
      "cell_type": "code",
      "metadata": {
        "id": "IAagN4pu1gZp",
        "colab_type": "code",
        "colab": {
          "base_uri": "https://localhost:8080/",
          "height": 264
        },
        "outputId": "54f7f147-f009-4b81-d106-699cc94886f5"
      },
      "source": [
        "pie_data = train.groupby('MODELO').agg('count')\n",
        "labels = pie_data[\"EDAD\"].sort_values().index \n",
        "cmap = plt.get_cmap('Spectral')\n",
        "colors = [cmap(i) for i in np.linspace(0, 1, 8)]\n",
        "plt.pie(pie_data[\"EDAD\"].sort_values(), labels=labels, autopct='%1.1f%%',shadow=True, colors=colors)\n",
        "plt.title('Distribución de MODELO')\n",
        "plt.show()\t"
      ],
      "execution_count": null,
      "outputs": [
        {
          "output_type": "display_data",
          "data": {
            "image/png": "[encoded data removed]",
            "text/plain": [
              "<Figure size 432x288 with 1 Axes>"
            ]
          },
          "metadata": {
            "tags": []
          }
        }
      ]
    },
    {
      "cell_type": "code",
      "metadata": {
        "id": "FqakW2Nn1gfo",
        "colab_type": "code",
        "colab": {
          "base_uri": "https://localhost:8080/",
          "height": 312
        },
        "outputId": "45fcedae-25d0-4440-d392-3f72ca263a47"
      },
      "source": [
        "n, bins, patches = plt.hist(x=train[\"MODELO\"], bins='auto', alpha=0.7, rwidth=0.85)\n",
        "plt.grid(axis='y', alpha=0.75)\n",
        "plt.xlabel('Edad')\n",
        "plt.ylabel('Frecuencia')\n",
        "plt.title('Distribución de MODELO')\n",
        "maxfreq = n.max()\n",
        "# Set a clean upper y-axis limit.\n",
        "plt.ylim(ymax=np.ceil(maxfreq / 10) * 10 if maxfreq % 10 else maxfreq + 10)"
      ],
      "execution_count": null,
      "outputs": [
        {
          "output_type": "execute_result",
          "data": {
            "text/plain": [
              "(0.0, 2130.0)"
            ]
          },
          "metadata": {
            "tags": []
          },
          "execution_count": 8
        },
        {
          "output_type": "display_data",
          "data": {
            "image/png": "[encoded data removed]",
            "text/plain": [
              "<Figure size 432x288 with 1 Axes>"
            ]
          },
          "metadata": {
            "tags": [],
            "needs_background": "light"
          }
        }
      ]
    },
    {
      "cell_type": "code",
      "metadata": {
        "id": "9ROTFCqF1gjo",
        "colab_type": "code",
        "colab": {
          "base_uri": "https://localhost:8080/",
          "height": 264
        },
        "outputId": "54b4df75-12b0-4397-dd37-89210b8910c6"
      },
      "source": [
        "pie_data = train.groupby('CLASEPOLIZA').agg('count')\n",
        "labels = pie_data[\"EDAD\"].sort_values().index \n",
        "cmap = plt.get_cmap('Spectral')\n",
        "colors = [cmap(i) for i in np.linspace(0, 1, 8)]\n",
        "plt.pie(pie_data[\"EDAD\"].sort_values(), labels=labels, autopct='%1.1f%%',shadow=True, colors=colors)\n",
        "plt.title('Distribución de CLASEPOLIZA')\n",
        "plt.show()"
      ],
      "execution_count": null,
      "outputs": [
        {
          "output_type": "display_data",
          "data": {
            "image/png": "[encoded data removed]",
            "text/plain": [
              "<Figure size 432x288 with 1 Axes>"
            ]
          },
          "metadata": {
            "tags": []
          }
        }
      ]
    },
    {
      "cell_type": "code",
      "metadata": {
        "id": "giyRf1es2DmG",
        "colab_type": "code",
        "colab": {
          "base_uri": "https://localhost:8080/",
          "height": 312
        },
        "outputId": "98adbd30-8911-41cf-a2f5-24ed02693245"
      },
      "source": [
        "n, bins, patches = plt.hist(x=train[\"CLASEPOLIZA\"], bins='auto', alpha=0.7, rwidth=0.85)\n",
        "plt.grid(axis='y', alpha=0.75)\n",
        "plt.xlabel('Edad')\n",
        "plt.ylabel('Frecuencia')\n",
        "plt.title('Distribución de MODELO')\n",
        "maxfreq = n.max()\n",
        "# Set a clean upper y-axis limit.\n",
        "plt.ylim(ymax=np.ceil(maxfreq / 10) * 10 if maxfreq % 10 else maxfreq + 10)"
      ],
      "execution_count": null,
      "outputs": [
        {
          "output_type": "execute_result",
          "data": {
            "text/plain": [
              "(0.0, 6480.0)"
            ]
          },
          "metadata": {
            "tags": []
          },
          "execution_count": 10
        },
        {
          "output_type": "display_data",
          "data": {
            "image/png": "[encoded data removed]",
            "text/plain": [
              "<Figure size 432x288 with 1 Axes>"
            ]
          },
          "metadata": {
            "tags": [],
            "needs_background": "light"
          }
        }
      ]
    },
    {
      "cell_type": "code",
      "metadata": {
        "id": "aMXMQJ-Q2DvH",
        "colab_type": "code",
        "colab": {
          "base_uri": "https://localhost:8080/",
          "height": 264
        },
        "outputId": "f5e58d79-33c0-472e-c8cc-78edee1df26a"
      },
      "source": [
        "pie_data = train.groupby('ZONA').agg('count')\n",
        "labels = pie_data[\"EDAD\"].sort_values().index \n",
        "cmap = plt.get_cmap('Spectral')\n",
        "colors = [cmap(i) for i in np.linspace(0, 1, 8)]\n",
        "plt.pie(pie_data[\"EDAD\"].sort_values(), labels=labels, autopct='%1.1f%%',shadow=True, colors=colors)\n",
        "plt.title('Distribución de ZONA')\n",
        "plt.show()\t"
      ],
      "execution_count": null,
      "outputs": [
        {
          "output_type": "display_data",
          "data": {
            "image/png": "[encoded data removed]",
            "text/plain": [
              "<Figure size 432x288 with 1 Axes>"
            ]
          },
          "metadata": {
            "tags": []
          }
        }
      ]
    },
    {
      "cell_type": "code",
      "metadata": {
        "id": "MAzC4w8R2D1A",
        "colab_type": "code",
        "colab": {
          "base_uri": "https://localhost:8080/",
          "height": 312
        },
        "outputId": "d3880bb7-3c38-49f9-ecde-ce8f905cec36"
      },
      "source": [
        "n, bins, patches = plt.hist(x=train[\"ZONA\"], bins='auto', alpha=0.7, rwidth=0.85)\n",
        "plt.grid(axis='y', alpha=0.75)\n",
        "plt.xlabel('Edad')\n",
        "plt.ylabel('Frecuencia')\n",
        "plt.title('Distribución de ZONA')\n",
        "maxfreq = n.max()\n",
        "# Set a clean upper y-axis limit.\n",
        "plt.ylim(ymax=np.ceil(maxfreq / 10) * 10 if maxfreq % 10 else maxfreq + 10)"
      ],
      "execution_count": null,
      "outputs": [
        {
          "output_type": "execute_result",
          "data": {
            "text/plain": [
              "(0.0, 4810.0)"
            ]
          },
          "metadata": {
            "tags": []
          },
          "execution_count": 12
        },
        {
          "output_type": "display_data",
          "data": {
            "image/png": "[encoded data removed]",
            "text/plain": [
              "<Figure size 432x288 with 1 Axes>"
            ]
          },
          "metadata": {
            "tags": [],
            "needs_background": "light"
          }
        }
      ]
    },
    {
      "cell_type": "code",
      "metadata": {
        "id": "DAMr99Ob2jj7",
        "colab_type": "code",
        "colab": {
          "base_uri": "https://localhost:8080/",
          "height": 264
        },
        "outputId": "401e6d15-254b-495c-dd21-6de573c85501"
      },
      "source": [
        "pie_data = train.groupby('SEXO').agg('count')\n",
        "labels = pie_data[\"EDAD\"].sort_values().index \n",
        "cmap = plt.get_cmap('Spectral')\n",
        "colors = [cmap(i) for i in np.linspace(0, 1, 8)]\n",
        "plt.pie(pie_data[\"EDAD\"].sort_values(), labels=labels, autopct='%1.1f%%',shadow=True, colors=colors)\n",
        "plt.title('Distribución de SEXO')\n",
        "plt.show()"
      ],
      "execution_count": null,
      "outputs": [
        {
          "output_type": "display_data",
          "data": {
            "image/png": "[encoded data removed]",
            "text/plain": [
              "<Figure size 432x288 with 1 Axes>"
            ]
          },
          "metadata": {
            "tags": []
          }
        }
      ]
    },
    {
      "cell_type": "code",
      "metadata": {
        "id": "qKEVj0oF2j30",
        "colab_type": "code",
        "colab": {
          "base_uri": "https://localhost:8080/",
          "height": 312
        },
        "outputId": "3e48a9dc-af64-4df4-f867-ab9dd75b60a3"
      },
      "source": [
        "n, bins, patches = plt.hist(x=train[\"SEXO\"], bins='auto', alpha=0.7, rwidth=0.85)\n",
        "plt.grid(axis='y', alpha=0.75)\n",
        "plt.xlabel('Edad')\n",
        "plt.ylabel('Frecuencia')\n",
        "plt.title('Distribución de SEXO')\n",
        "maxfreq = n.max()\n",
        "# Set a clean upper y-axis limit.\n",
        "plt.ylim(ymax=np.ceil(maxfreq / 10) * 10 if maxfreq % 10 else maxfreq + 10)"
      ],
      "execution_count": null,
      "outputs": [
        {
          "output_type": "execute_result",
          "data": {
            "text/plain": [
              "(0.0, 5300.0)"
            ]
          },
          "metadata": {
            "tags": []
          },
          "execution_count": 14
        },
        {
          "output_type": "display_data",
          "data": {
            "image/png": "[encoded data removed]",
            "text/plain": [
              "<Figure size 432x288 with 1 Axes>"
            ]
          },
          "metadata": {
            "tags": [],
            "needs_background": "light"
          }
        }
      ]
    },
    {
      "cell_type": "code",
      "metadata": {
        "id": "YMuE1GsE2j-N",
        "colab_type": "code",
        "colab": {
          "base_uri": "https://localhost:8080/",
          "height": 264
        },
        "outputId": "1a03d830-51dc-4c23-aa90-f3adf9f0e626"
      },
      "source": [
        "pie_data = train.groupby('EDAD').agg('count')\n",
        "labels = pie_data[\"VALOR\"].sort_values().index \n",
        "cmap = plt.get_cmap('Spectral')\n",
        "colors = [cmap(i) for i in np.linspace(0, 1, 8)]\n",
        "plt.pie(pie_data[\"VALOR\"].sort_values(), labels=labels, autopct='%1.1f%%',shadow=True, colors=colors)\n",
        "plt.title('Distribución de EDAD')\n",
        "plt.show()"
      ],
      "execution_count": null,
      "outputs": [
        {
          "output_type": "display_data",
          "data": {
            "image/png": "[encoded data removed]",
            "text/plain": [
              "<Figure size 432x288 with 1 Axes>"
            ]
          },
          "metadata": {
            "tags": []
          }
        }
      ]
    },
    {
      "cell_type": "code",
      "metadata": {
        "id": "LqaUApPH2D33",
        "colab_type": "code",
        "colab": {
          "base_uri": "https://localhost:8080/",
          "height": 312
        },
        "outputId": "559a38f3-4448-4151-bd2c-fdc589142968"
      },
      "source": [
        "n, bins, patches = plt.hist(x=train[\"EDAD\"], bins='auto', alpha=0.7, rwidth=0.85)\n",
        "plt.grid(axis='y', alpha=0.75)\n",
        "plt.xlabel('Edad')\n",
        "plt.ylabel('Frecuencia')\n",
        "plt.title('Distribución de EDAD')\n",
        "maxfreq = n.max()\n",
        "# Set a clean upper y-axis limit.\n",
        "plt.ylim(ymax=np.ceil(maxfreq / 10) * 10 if maxfreq % 10 else maxfreq + 10)"
      ],
      "execution_count": null,
      "outputs": [
        {
          "output_type": "execute_result",
          "data": {
            "text/plain": [
              "(0.0, 5730.0)"
            ]
          },
          "metadata": {
            "tags": []
          },
          "execution_count": 16
        },
        {
          "output_type": "display_data",
          "data": {
            "image/png": "[encoded data removed]",
            "text/plain": [
              "<Figure size 432x288 with 1 Axes>"
            ]
          },
          "metadata": {
            "tags": [],
            "needs_background": "light"
          }
        }
      ]
    },
    {
      "cell_type": "code",
      "metadata": {
        "id": "aSpRtS9m3y29",
        "colab_type": "code",
        "colab": {
          "base_uri": "https://localhost:8080/",
          "height": 264
        },
        "outputId": "07347ee2-548d-4139-f8ea-0f9e921b06b4"
      },
      "source": [
        "pie_data = train.groupby('VALOR').agg('count')\n",
        "labels = pie_data[\"EDAD\"].sort_values().index \n",
        "cmap = plt.get_cmap('Spectral')\n",
        "colors = [cmap(i) for i in np.linspace(0, 1, 8)]\n",
        "plt.pie(pie_data[\"EDAD\"].sort_values(), labels=labels, autopct='%1.1f%%',shadow=True, colors=colors)\n",
        "plt.title('Distribución de VALOR')\n",
        "plt.show()"
      ],
      "execution_count": null,
      "outputs": [
        {
          "output_type": "display_data",
          "data": {
            "image/png": "[encoded data removed]",
            "text/plain": [
              "<Figure size 432x288 with 1 Axes>"
            ]
          },
          "metadata": {
            "tags": []
          }
        }
      ]
    },
    {
      "cell_type": "code",
      "metadata": {
        "id": "B-TLvUS93zBF",
        "colab_type": "code",
        "colab": {
          "base_uri": "https://localhost:8080/",
          "height": 312
        },
        "outputId": "14d6af01-b196-49df-dd90-d105f118d248"
      },
      "source": [
        "n, bins, patches = plt.hist(x=train[\"VALOR\"], bins='auto', alpha=0.7, rwidth=0.85)\n",
        "plt.grid(axis='y', alpha=0.75)\n",
        "plt.xlabel('Edad')\n",
        "plt.ylabel('Frecuencia')\n",
        "plt.title('Distribución de VALOR')\n",
        "maxfreq = n.max()\n",
        "# Set a clean upper y-axis limit.\n",
        "plt.ylim(ymax=np.ceil(maxfreq / 10) * 10 if maxfreq % 10 else maxfreq + 10)"
      ],
      "execution_count": null,
      "outputs": [
        {
          "output_type": "execute_result",
          "data": {
            "text/plain": [
              "(0.0, 2800.0)"
            ]
          },
          "metadata": {
            "tags": []
          },
          "execution_count": 18
        },
        {
          "output_type": "display_data",
          "data": {
            "image/png": "[encoded data removed]",
            "text/plain": [
              "<Figure size 432x288 with 1 Axes>"
            ]
          },
          "metadata": {
            "tags": [],
            "needs_background": "light"
          }
        }
      ]
    },
    {
      "cell_type": "code",
      "metadata": {
        "id": "DQLpAcm0Gl_E",
        "colab_type": "code",
        "colab": {
          "base_uri": "https://localhost:8080/",
          "height": 312
        },
        "outputId": "73dfe35b-6a99-4a02-e037-b0929486ce80"
      },
      "source": [
        "n, bins, patches = plt.hist(x=train[\"MONTO\"], bins='auto', alpha=0.7, rwidth=0.85)\n",
        "plt.grid(axis='y', alpha=0.75)\n",
        "plt.xlabel('Edad')\n",
        "plt.ylabel('Frecuencia')\n",
        "plt.title('Distribución de MONTO')\n",
        "maxfreq = n.max()\n",
        "# Set a clean upper y-axis limit.\n",
        "plt.ylim(ymax=np.ceil(maxfreq / 10) * 10 if maxfreq % 10 else maxfreq + 10)"
      ],
      "execution_count": null,
      "outputs": [
        {
          "output_type": "execute_result",
          "data": {
            "text/plain": [
              "(0.0, 660.0)"
            ]
          },
          "metadata": {
            "tags": []
          },
          "execution_count": 19
        },
        {
          "output_type": "display_data",
          "data": {
            "image/png": "[encoded data removed]",
            "text/plain": [
              "<Figure size 432x288 with 1 Axes>"
            ]
          },
          "metadata": {
            "tags": [],
            "needs_background": "light"
          }
        }
      ]
    },
    {
      "cell_type": "markdown",
      "metadata": {
        "id": "qEWkjIol5vUE",
        "colab_type": "text"
      },
      "source": [
        "## H2o Top Models GLMs, Auto ML: Deeplearning, [\"DRF\", \"GBM\", \"XGBoost\"], include_algos all\n",
        "> Prediction Accuracy (ACC) https://en.wikipedia.org/wiki/Confusion_matrix\n",
        "\n",
        "> Cross-validation https://en.wikipedia.org/wiki/Cross-validation_(statistics)bold text"
      ]
    },
    {
      "cell_type": "code",
      "metadata": {
        "id": "ZpTK5-Xg0OS1",
        "colab_type": "code",
        "colab": {
          "base_uri": "https://localhost:8080/",
          "height": 190
        },
        "outputId": "f073595d-304e-4e64-a671-614a30643782"
      },
      "source": [
        "!pip install h2o"
      ],
      "execution_count": null,
      "outputs": [
        {
          "output_type": "stream",
          "text": [
            "Requirement already satisfied: h2o in /usr/local/lib/python3.6/dist-packages (3.30.1.1)\n",
            "Requirement already satisfied: future in /usr/local/lib/python3.6/dist-packages (from h2o) (0.16.0)\n",
            "Requirement already satisfied: requests in /usr/local/lib/python3.6/dist-packages (from h2o) (2.23.0)\n",
            "Requirement already satisfied: tabulate in /usr/local/lib/python3.6/dist-packages (from h2o) (0.8.7)\n",
            "Requirement already satisfied: colorama>=0.3.8 in /usr/local/lib/python3.6/dist-packages (from h2o) (0.4.3)\n",
            "Requirement already satisfied: chardet<4,>=3.0.2 in /usr/local/lib/python3.6/dist-packages (from requests->h2o) (3.0.4)\n",
            "Requirement already satisfied: urllib3!=1.25.0,!=1.25.1,<1.26,>=1.21.1 in /usr/local/lib/python3.6/dist-packages (from requests->h2o) (1.24.3)\n",
            "Requirement already satisfied: certifi>=2017.4.17 in /usr/local/lib/python3.6/dist-packages (from requests->h2o) (2020.6.20)\n",
            "Requirement already satisfied: idna<3,>=2.5 in /usr/local/lib/python3.6/dist-packages (from requests->h2o) (2.10)\n"
          ],
          "name": "stdout"
        }
      ]
    },
    {
      "cell_type": "code",
      "metadata": {
        "id": "ipRcAvM2E9uw",
        "colab_type": "code",
        "colab": {
          "base_uri": "https://localhost:8080/",
          "height": 545
        },
        "outputId": "276b3f4f-9f98-45e1-f075-907262737fb8"
      },
      "source": [
        "import h2o\n",
        "h2o.init()"
      ],
      "execution_count": null,
      "outputs": [
        {
          "output_type": "stream",
          "text": [
            "Checking whether there is an H2O instance running at http://localhost:54321 ..... not found.\n",
            "Attempting to start a local H2O server...\n",
            "  Java Version: openjdk version \"11.0.8\" 2020-07-14; OpenJDK Runtime Environment (build 11.0.8+10-post-Ubuntu-0ubuntu118.04.1); OpenJDK 64-Bit Server VM (build 11.0.8+10-post-Ubuntu-0ubuntu118.04.1, mixed mode, sharing)\n",
            "  Starting server from /usr/local/lib/python3.6/dist-packages/h2o/backend/bin/h2o.jar\n",
            "  Ice root: /tmp/tmpw0ctdv3i\n",
            "  JVM stdout: /tmp/tmpw0ctdv3i/h2o_unknownUser_started_from_python.out\n",
            "  JVM stderr: /tmp/tmpw0ctdv3i/h2o_unknownUser_started_from_python.err\n",
            "  Server is running at http://127.0.0.1:54321\n",
            "Connecting to H2O server at http://127.0.0.1:54321 ... successful.\n"
          ],
          "name": "stdout"
        },
        {
          "output_type": "display_data",
          "data": {
            "text/html": [
              "<div style=\"overflow:auto\"><table style=\"width:50%\"><tr><td>H2O_cluster_uptime:</td>\n",
              "<td>06 secs</td></tr>\n",
              "<tr><td>H2O_cluster_timezone:</td>\n",
              "<td>Etc/UTC</td></tr>\n",
              "<tr><td>H2O_data_parsing_timezone:</td>\n",
              "<td>UTC</td></tr>\n",
              "<tr><td>H2O_cluster_version:</td>\n",
              "<td>3.30.1.1</td></tr>\n",
              "<tr><td>H2O_cluster_version_age:</td>\n",
              "<td>7 days, 22 hours and 22 minutes </td></tr>\n",
              "<tr><td>H2O_cluster_name:</td>\n",
              "<td>H2O_from_python_unknownUser_ri57b8</td></tr>\n",
              "<tr><td>H2O_cluster_total_nodes:</td>\n",
              "<td>1</td></tr>\n",
              "<tr><td>H2O_cluster_free_memory:</td>\n",
              "<td>3.180 Gb</td></tr>\n",
              "<tr><td>H2O_cluster_total_cores:</td>\n",
              "<td>2</td></tr>\n",
              "<tr><td>H2O_cluster_allowed_cores:</td>\n",
              "<td>2</td></tr>\n",
              "<tr><td>H2O_cluster_status:</td>\n",
              "<td>accepting new members, healthy</td></tr>\n",
              "<tr><td>H2O_connection_url:</td>\n",
              "<td>http://127.0.0.1:54321</td></tr>\n",
              "<tr><td>H2O_connection_proxy:</td>\n",
              "<td>{\"http\": null, \"https\": null}</td></tr>\n",
              "<tr><td>H2O_internal_security:</td>\n",
              "<td>False</td></tr>\n",
              "<tr><td>H2O_API_Extensions:</td>\n",
              "<td>Amazon S3, XGBoost, Algos, AutoML, Core V3, TargetEncoder, Core V4</td></tr>\n",
              "<tr><td>Python_version:</td>\n",
              "<td>3.6.9 final</td></tr></table></div>"
            ],
            "text/plain": [
              "--------------------------  ------------------------------------------------------------------\n",
              "H2O_cluster_uptime:         06 secs\n",
              "H2O_cluster_timezone:       Etc/UTC\n",
              "H2O_data_parsing_timezone:  UTC\n",
              "H2O_cluster_version:        3.30.1.1\n",
              "H2O_cluster_version_age:    7 days, 22 hours and 22 minutes\n",
              "H2O_cluster_name:           H2O_from_python_unknownUser_ri57b8\n",
              "H2O_cluster_total_nodes:    1\n",
              "H2O_cluster_free_memory:    3.180 Gb\n",
              "H2O_cluster_total_cores:    2\n",
              "H2O_cluster_allowed_cores:  2\n",
              "H2O_cluster_status:         accepting new members, healthy\n",
              "H2O_connection_url:         http://127.0.0.1:54321\n",
              "H2O_connection_proxy:       {\"http\": null, \"https\": null}\n",
              "H2O_internal_security:      False\n",
              "H2O_API_Extensions:         Amazon S3, XGBoost, Algos, AutoML, Core V3, TargetEncoder, Core V4\n",
              "Python_version:             3.6.9 final\n",
              "--------------------------  ------------------------------------------------------------------"
            ]
          },
          "metadata": {
            "tags": []
          }
        }
      ]
    },
    {
      "cell_type": "code",
      "metadata": {
        "id": "rOj8E7lSw1_X",
        "colab_type": "code",
        "colab": {
          "base_uri": "https://localhost:8080/",
          "height": 419
        },
        "outputId": "e2777dbd-97ff-4724-8d94-dabb10f4d449"
      },
      "source": [
        "import pandas as pd\n",
        "import numpy as np\n",
        "\n",
        "train = pd.read_csv('https://raw.githubusercontent.com/gjhernandezp/AutoMLInterpretabityCarInsurancePricing/master/SEVERIDAD.txt',sep='\\t')\n",
        "train"
      ],
      "execution_count": null,
      "outputs": [
        {
          "output_type": "execute_result",
          "data": {
            "text/html": [
              "<div>\n",
              "<style scoped>\n",
              "    .dataframe tbody tr th:only-of-type {\n",
              "        vertical-align: middle;\n",
              "    }\n",
              "\n",
              "    .dataframe tbody tr th {\n",
              "        vertical-align: top;\n",
              "    }\n",
              "\n",
              "    .dataframe thead th {\n",
              "        text-align: right;\n",
              "    }\n",
              "</style>\n",
              "<table border=\"1\" class=\"dataframe\">\n",
              "  <thead>\n",
              "    <tr style=\"text-align: right;\">\n",
              "      <th></th>\n",
              "      <th>MONTO</th>\n",
              "      <th>CLASE</th>\n",
              "      <th>MARCA</th>\n",
              "      <th>MODELO</th>\n",
              "      <th>CLASEPOLIZA</th>\n",
              "      <th>ZONA</th>\n",
              "      <th>SEXO</th>\n",
              "      <th>EDAD</th>\n",
              "      <th>VALOR</th>\n",
              "    </tr>\n",
              "  </thead>\n",
              "  <tbody>\n",
              "    <tr>\n",
              "      <th>0</th>\n",
              "      <td>0.716792</td>\n",
              "      <td>AU</td>\n",
              "      <td>CH</td>\n",
              "      <td>M6</td>\n",
              "      <td>POLIZA INDIVIDUAL</td>\n",
              "      <td>AN</td>\n",
              "      <td>M</td>\n",
              "      <td>E4</td>\n",
              "      <td>V2</td>\n",
              "    </tr>\n",
              "    <tr>\n",
              "      <th>1</th>\n",
              "      <td>0.436689</td>\n",
              "      <td>AU</td>\n",
              "      <td>MZ</td>\n",
              "      <td>M8</td>\n",
              "      <td>POLIZA INDIVIDUAL</td>\n",
              "      <td>AN</td>\n",
              "      <td>F</td>\n",
              "      <td>E4</td>\n",
              "      <td>V1</td>\n",
              "    </tr>\n",
              "    <tr>\n",
              "      <th>2</th>\n",
              "      <td>4.301685</td>\n",
              "      <td>AU</td>\n",
              "      <td>KO</td>\n",
              "      <td>M6</td>\n",
              "      <td>POLIZA INDIVIDUAL</td>\n",
              "      <td>AN</td>\n",
              "      <td>F</td>\n",
              "      <td>E4</td>\n",
              "      <td>V2</td>\n",
              "    </tr>\n",
              "    <tr>\n",
              "      <th>3</th>\n",
              "      <td>3.959068</td>\n",
              "      <td>AU</td>\n",
              "      <td>CH</td>\n",
              "      <td>M7</td>\n",
              "      <td>POLIZA INDIVIDUAL</td>\n",
              "      <td>AN</td>\n",
              "      <td>M</td>\n",
              "      <td>E5</td>\n",
              "      <td>V2</td>\n",
              "    </tr>\n",
              "    <tr>\n",
              "      <th>4</th>\n",
              "      <td>1.779130</td>\n",
              "      <td>AU</td>\n",
              "      <td>CH</td>\n",
              "      <td>M2</td>\n",
              "      <td>POLIZA INDIVIDUAL</td>\n",
              "      <td>AN</td>\n",
              "      <td>F</td>\n",
              "      <td>E1</td>\n",
              "      <td>V3</td>\n",
              "    </tr>\n",
              "    <tr>\n",
              "      <th>...</th>\n",
              "      <td>...</td>\n",
              "      <td>...</td>\n",
              "      <td>...</td>\n",
              "      <td>...</td>\n",
              "      <td>...</td>\n",
              "      <td>...</td>\n",
              "      <td>...</td>\n",
              "      <td>...</td>\n",
              "      <td>...</td>\n",
              "    </tr>\n",
              "    <tr>\n",
              "      <th>9884</th>\n",
              "      <td>0.206876</td>\n",
              "      <td>AU</td>\n",
              "      <td>CH</td>\n",
              "      <td>M6</td>\n",
              "      <td>POLIZA COLECTIVA</td>\n",
              "      <td>AN</td>\n",
              "      <td>F</td>\n",
              "      <td>E5</td>\n",
              "      <td>V2</td>\n",
              "    </tr>\n",
              "    <tr>\n",
              "      <th>9885</th>\n",
              "      <td>10.308720</td>\n",
              "      <td>PD</td>\n",
              "      <td>CH</td>\n",
              "      <td>M2</td>\n",
              "      <td>POLIZA COLECTIVA</td>\n",
              "      <td>BG</td>\n",
              "      <td>M</td>\n",
              "      <td>E4</td>\n",
              "      <td>V5</td>\n",
              "    </tr>\n",
              "    <tr>\n",
              "      <th>9886</th>\n",
              "      <td>11.368624</td>\n",
              "      <td>AU</td>\n",
              "      <td>EU</td>\n",
              "      <td>M6</td>\n",
              "      <td>POLIZA INDIVIDUAL</td>\n",
              "      <td>AN</td>\n",
              "      <td>M</td>\n",
              "      <td>E2</td>\n",
              "      <td>V3</td>\n",
              "    </tr>\n",
              "    <tr>\n",
              "      <th>9887</th>\n",
              "      <td>0.239930</td>\n",
              "      <td>AU</td>\n",
              "      <td>KO</td>\n",
              "      <td>M6</td>\n",
              "      <td>POLIZA INDIVIDUAL</td>\n",
              "      <td>AN</td>\n",
              "      <td>M</td>\n",
              "      <td>E5</td>\n",
              "      <td>V2</td>\n",
              "    </tr>\n",
              "    <tr>\n",
              "      <th>9888</th>\n",
              "      <td>0.258946</td>\n",
              "      <td>PD</td>\n",
              "      <td>MZ</td>\n",
              "      <td>M1</td>\n",
              "      <td>POLIZA INDIVIDUAL</td>\n",
              "      <td>AN</td>\n",
              "      <td>F</td>\n",
              "      <td>E4</td>\n",
              "      <td>V5</td>\n",
              "    </tr>\n",
              "  </tbody>\n",
              "</table>\n",
              "<p>9889 rows × 9 columns</p>\n",
              "</div>"
            ],
            "text/plain": [
              "          MONTO CLASE MARCA MODELO        CLASEPOLIZA ZONA SEXO EDAD VALOR\n",
              "0      0.716792    AU    CH     M6  POLIZA INDIVIDUAL   AN    M   E4    V2\n",
              "1      0.436689    AU    MZ     M8  POLIZA INDIVIDUAL   AN    F   E4    V1\n",
              "2      4.301685    AU    KO     M6  POLIZA INDIVIDUAL   AN    F   E4    V2\n",
              "3      3.959068    AU    CH     M7  POLIZA INDIVIDUAL   AN    M   E5    V2\n",
              "4      1.779130    AU    CH     M2  POLIZA INDIVIDUAL   AN    F   E1    V3\n",
              "...         ...   ...   ...    ...                ...  ...  ...  ...   ...\n",
              "9884   0.206876    AU    CH     M6   POLIZA COLECTIVA   AN    F   E5    V2\n",
              "9885  10.308720    PD    CH     M2   POLIZA COLECTIVA   BG    M   E4    V5\n",
              "9886  11.368624    AU    EU     M6  POLIZA INDIVIDUAL   AN    M   E2    V3\n",
              "9887   0.239930    AU    KO     M6  POLIZA INDIVIDUAL   AN    M   E5    V2\n",
              "9888   0.258946    PD    MZ     M1  POLIZA INDIVIDUAL   AN    F   E4    V5\n",
              "\n",
              "[9889 rows x 9 columns]"
            ]
          },
          "metadata": {
            "tags": []
          },
          "execution_count": 22
        }
      ]
    },
    {
      "cell_type": "code",
      "metadata": {
        "id": "5YKEphV1HK4g",
        "colab_type": "code",
        "colab": {
          "base_uri": "https://localhost:8080/",
          "height": 267
        },
        "outputId": "e6da025a-f430-49b4-9e16-c9e2a77e6479"
      },
      "source": [
        "train_h = h2o.H2OFrame(train)\n",
        "train_h[\"CLASE\"] = train_h[\"CLASE\"].asfactor()\n",
        "train_h[\"MARCA\t\"] = train_h[\"MARCA\"].asfactor()\n",
        "train_h[\"MODELO\"] = train_h[\"MODELO\"].asfactor()\n",
        "train_h[\"CLASEPOLIZA\"] = train_h[\"CLASEPOLIZA\"].asfactor()\n",
        "train_h[\"ZONA\"] = train_h[\"ZONA\"].asfactor()\n",
        "train_h[\"SEXO\"] = train_h[\"SEXO\"].asfactor()\n",
        "train_h[\"EDAD\"] = train_h[\"EDAD\"].asfactor()\n",
        "train_h[\"VALOR\"] = train_h[\"VALOR\"].asfactor()\n",
        "\n",
        "train_h"
      ],
      "execution_count": null,
      "outputs": [
        {
          "output_type": "stream",
          "text": [
            "Parse progress: |█████████████████████████████████████████████████████████| 100%\n"
          ],
          "name": "stdout"
        },
        {
          "output_type": "display_data",
          "data": {
            "text/html": [
              "<table>\n",
              "<thead>\n",
              "<tr><th style=\"text-align: right;\">   MONTO</th><th>CLASE  </th><th>MARCA  </th><th>MODELO  </th><th>CLASEPOLIZA      </th><th>ZONA  </th><th>SEXO  </th><th>EDAD  </th><th>VALOR  </th><th>MARCA\t   </th></tr>\n",
              "</thead>\n",
              "<tbody>\n",
              "<tr><td style=\"text-align: right;\">0.716792</td><td>AU     </td><td>CH     </td><td>M6      </td><td>POLIZA INDIVIDUAL</td><td>AN    </td><td>M     </td><td>E4    </td><td>V2     </td><td>CH</td></tr>\n",
              "<tr><td style=\"text-align: right;\">0.436689</td><td>AU     </td><td>MZ     </td><td>M8      </td><td>POLIZA INDIVIDUAL</td><td>AN    </td><td>F     </td><td>E4    </td><td>V1     </td><td>MZ</td></tr>\n",
              "<tr><td style=\"text-align: right;\">4.30168 </td><td>AU     </td><td>KO     </td><td>M6      </td><td>POLIZA INDIVIDUAL</td><td>AN    </td><td>F     </td><td>E4    </td><td>V2     </td><td>KO</td></tr>\n",
              "<tr><td style=\"text-align: right;\">3.95907 </td><td>AU     </td><td>CH     </td><td>M7      </td><td>POLIZA INDIVIDUAL</td><td>AN    </td><td>M     </td><td>E5    </td><td>V2     </td><td>CH</td></tr>\n",
              "<tr><td style=\"text-align: right;\">1.77913 </td><td>AU     </td><td>CH     </td><td>M2      </td><td>POLIZA INDIVIDUAL</td><td>AN    </td><td>F     </td><td>E1    </td><td>V3     </td><td>CH</td></tr>\n",
              "<tr><td style=\"text-align: right;\">0.76467 </td><td>AU     </td><td>CH     </td><td>M2      </td><td>POLIZA INDIVIDUAL</td><td>AN    </td><td>F     </td><td>E4    </td><td>V3     </td><td>CH</td></tr>\n",
              "<tr><td style=\"text-align: right;\">2.84766 </td><td>CP     </td><td>JA     </td><td>M3      </td><td>POLIZA INDIVIDUAL</td><td>AN    </td><td>M     </td><td>E4    </td><td>V5     </td><td>JA</td></tr>\n",
              "<tr><td style=\"text-align: right;\">1.24631 </td><td>AU     </td><td>CH     </td><td>M3      </td><td>POLIZA INDIVIDUAL</td><td>AN    </td><td>M     </td><td>E4    </td><td>V4     </td><td>CH</td></tr>\n",
              "<tr><td style=\"text-align: right;\">1.35824 </td><td>AU     </td><td>MZ     </td><td>M8      </td><td>POLIZA INDIVIDUAL</td><td>AN    </td><td>M     </td><td>E4    </td><td>V1     </td><td>MZ</td></tr>\n",
              "<tr><td style=\"text-align: right;\">3.04246 </td><td>AU     </td><td>JA     </td><td>M7      </td><td>POLIZA INDIVIDUAL</td><td>AN    </td><td>F     </td><td>E6    </td><td>V2     </td><td>JA</td></tr>\n",
              "</tbody>\n",
              "</table>"
            ]
          },
          "metadata": {
            "tags": []
          }
        },
        {
          "output_type": "execute_result",
          "data": {
            "text/plain": [
              ""
            ]
          },
          "metadata": {
            "tags": []
          },
          "execution_count": 23
        }
      ]
    },
    {
      "cell_type": "code",
      "metadata": {
        "id": "Q5OOA5wNFeZn",
        "colab_type": "code",
        "colab": {
          "base_uri": "https://localhost:8080/",
          "height": 1000
        },
        "outputId": "6f88bd6a-b52c-48c3-b78a-4ee5bdad9cf8"
      },
      "source": [
        "from h2o.estimators.glm import H2OGeneralizedLinearEstimator\n",
        "\n",
        "predictors = [\"CLASE\",\"MARCA\",\"MODELO\",\"CLASEPOLIZA\",\"ZONA\",\"SEXO\",\"EDAD\",\"VALOR\"]\n",
        "response = \"MONTO\"\n",
        "\n",
        "glm_model = H2OGeneralizedLinearEstimator(family= \"gamma\",\n",
        "                                          link='log',\n",
        "                                          lambda_ = 0,\n",
        "                                          compute_p_values = True,\n",
        "                                          nfolds = 5)\n",
        "\n",
        "glm_model.train(predictors, response, training_frame= train_h)\n",
        "\n",
        "print(glm_model)\n",
        "glm_model.std_coef_plot()\n",
        "\n",
        "print(\"Actual\")\n",
        "actual = np.array(train[response])\n",
        "print(actual)\n",
        "\n",
        "pred_df = glm_model.predict(train_h)\n",
        "predicted = np.array(pred_df.as_data_frame()[\"predict\"])\n",
        "print(\"predicted\")\n",
        "print(predicted)\n",
        "\n",
        "print(\"Obsreved MSE\")\n",
        "np.sum(np.square(actual-predicted))/len(predicted)"
      ],
      "execution_count": null,
      "outputs": [
        {
          "output_type": "stream",
          "text": [
            "glm Model Build progress: |███████████████████████████████████████████████| 100%\n",
            "Model Details\n",
            "=============\n",
            "H2OGeneralizedLinearEstimator :  Generalized Linear Modeling\n",
            "Model Key:  GLM_model_python_1597755344417_4\n",
            "\n",
            "\n",
            "GLM Model: summary\n"
          ],
          "name": "stdout"
        },
        {
          "output_type": "display_data",
          "data": {
            "text/html": [
              "<div>\n",
              "<style scoped>\n",
              "    .dataframe tbody tr th:only-of-type {\n",
              "        vertical-align: middle;\n",
              "    }\n",
              "\n",
              "    .dataframe tbody tr th {\n",
              "        vertical-align: top;\n",
              "    }\n",
              "\n",
              "    .dataframe thead th {\n",
              "        text-align: right;\n",
              "    }\n",
              "</style>\n",
              "<table border=\"1\" class=\"dataframe\">\n",
              "  <thead>\n",
              "    <tr style=\"text-align: right;\">\n",
              "      <th></th>\n",
              "      <th></th>\n",
              "      <th>family</th>\n",
              "      <th>link</th>\n",
              "      <th>regularization</th>\n",
              "      <th>number_of_predictors_total</th>\n",
              "      <th>number_of_active_predictors</th>\n",
              "      <th>number_of_iterations</th>\n",
              "      <th>training_frame</th>\n",
              "    </tr>\n",
              "  </thead>\n",
              "  <tbody>\n",
              "    <tr>\n",
              "      <th>0</th>\n",
              "      <td></td>\n",
              "      <td>gamma</td>\n",
              "      <td>log</td>\n",
              "      <td>None</td>\n",
              "      <td>38</td>\n",
              "      <td>38</td>\n",
              "      <td>4</td>\n",
              "      <td>py_8_sid_a4d7</td>\n",
              "    </tr>\n",
              "  </tbody>\n",
              "</table>\n",
              "</div>"
            ],
            "text/plain": [
              "    family  ... number_of_iterations training_frame\n",
              "0    gamma  ...                    4  py_8_sid_a4d7\n",
              "\n",
              "[1 rows x 8 columns]"
            ]
          },
          "metadata": {
            "tags": []
          }
        },
        {
          "output_type": "stream",
          "text": [
            "\n",
            "\n",
            "ModelMetricsRegressionGLM: glm\n",
            "** Reported on train data. **\n",
            "\n",
            "MSE: 11.704440064298874\n",
            "RMSE: 3.421175246066602\n",
            "MAE: 2.2561681254086894\n",
            "RMSLE: 0.6719599279208712\n",
            "R^2: 0.04568219966461129\n",
            "Mean Residual Deviance: 0.9631063172560621\n",
            "Null degrees of freedom: 9888\n",
            "Residual degrees of freedom: 9850\n",
            "Null deviance: 9951.842832241133\n",
            "Residual deviance: 9524.158371345198\n",
            "AIC: NaN\n",
            "\n",
            "ModelMetricsRegressionGLM: glm\n",
            "** Reported on cross-validation data. **\n",
            "\n",
            "MSE: 11.8387834100318\n",
            "RMSE: 3.440753320136711\n",
            "MAE: 2.266969778868645\n",
            "RMSLE: 0.6753471732356008\n",
            "R^2: 0.034728557671883764\n",
            "Mean Residual Deviance: 0.9728112719860357\n",
            "Null degrees of freedom: 9888\n",
            "Residual degrees of freedom: 9850\n",
            "Null deviance: 9952.709499792174\n",
            "Residual deviance: 9620.130668669906\n",
            "AIC: NaN\n",
            "\n",
            "Cross-Validation Metrics Summary: \n"
          ],
          "name": "stdout"
        },
        {
          "output_type": "display_data",
          "data": {
            "text/html": [
              "<div>\n",
              "<style scoped>\n",
              "    .dataframe tbody tr th:only-of-type {\n",
              "        vertical-align: middle;\n",
              "    }\n",
              "\n",
              "    .dataframe tbody tr th {\n",
              "        vertical-align: top;\n",
              "    }\n",
              "\n",
              "    .dataframe thead th {\n",
              "        text-align: right;\n",
              "    }\n",
              "</style>\n",
              "<table border=\"1\" class=\"dataframe\">\n",
              "  <thead>\n",
              "    <tr style=\"text-align: right;\">\n",
              "      <th></th>\n",
              "      <th></th>\n",
              "      <th>mean</th>\n",
              "      <th>sd</th>\n",
              "      <th>cv_1_valid</th>\n",
              "      <th>cv_2_valid</th>\n",
              "      <th>cv_3_valid</th>\n",
              "      <th>cv_4_valid</th>\n",
              "      <th>cv_5_valid</th>\n",
              "    </tr>\n",
              "  </thead>\n",
              "  <tbody>\n",
              "    <tr>\n",
              "      <th>0</th>\n",
              "      <td>mae</td>\n",
              "      <td>2.2659922</td>\n",
              "      <td>0.045503095</td>\n",
              "      <td>2.217969</td>\n",
              "      <td>2.2234633</td>\n",
              "      <td>2.3117044</td>\n",
              "      <td>2.3115668</td>\n",
              "      <td>2.2652576</td>\n",
              "    </tr>\n",
              "    <tr>\n",
              "      <th>1</th>\n",
              "      <td>mean_residual_deviance</td>\n",
              "      <td>0.97230387</td>\n",
              "      <td>0.03424543</td>\n",
              "      <td>0.92896175</td>\n",
              "      <td>0.9682651</td>\n",
              "      <td>1.0123457</td>\n",
              "      <td>1.0001174</td>\n",
              "      <td>0.9518293</td>\n",
              "    </tr>\n",
              "    <tr>\n",
              "      <th>2</th>\n",
              "      <td>mse</td>\n",
              "      <td>11.833948</td>\n",
              "      <td>0.2560449</td>\n",
              "      <td>11.854184</td>\n",
              "      <td>11.402965</td>\n",
              "      <td>11.907344</td>\n",
              "      <td>11.919585</td>\n",
              "      <td>12.08566</td>\n",
              "    </tr>\n",
              "    <tr>\n",
              "      <th>3</th>\n",
              "      <td>null_deviance</td>\n",
              "      <td>1990.5419</td>\n",
              "      <td>99.59757</td>\n",
              "      <td>1866.8129</td>\n",
              "      <td>1924.5829</td>\n",
              "      <td>2120.6187</td>\n",
              "      <td>2046.0624</td>\n",
              "      <td>1994.6327</td>\n",
              "    </tr>\n",
              "    <tr>\n",
              "      <th>4</th>\n",
              "      <td>r2</td>\n",
              "      <td>0.0348991</td>\n",
              "      <td>0.016513607</td>\n",
              "      <td>0.031332113</td>\n",
              "      <td>0.0602245</td>\n",
              "      <td>0.020045549</td>\n",
              "      <td>0.021642817</td>\n",
              "      <td>0.041250523</td>\n",
              "    </tr>\n",
              "    <tr>\n",
              "      <th>5</th>\n",
              "      <td>residual_deviance</td>\n",
              "      <td>1924.0261</td>\n",
              "      <td>113.78989</td>\n",
              "      <td>1805.9016</td>\n",
              "      <td>1833.8942</td>\n",
              "      <td>2074.2964</td>\n",
              "      <td>2005.2354</td>\n",
              "      <td>1900.8031</td>\n",
              "    </tr>\n",
              "    <tr>\n",
              "      <th>6</th>\n",
              "      <td>rmse</td>\n",
              "      <td>3.4398878</td>\n",
              "      <td>0.03740967</td>\n",
              "      <td>3.4429905</td>\n",
              "      <td>3.3768277</td>\n",
              "      <td>3.450702</td>\n",
              "      <td>3.4524753</td>\n",
              "      <td>3.4764435</td>\n",
              "    </tr>\n",
              "    <tr>\n",
              "      <th>7</th>\n",
              "      <td>rmsle</td>\n",
              "      <td>0.67514026</td>\n",
              "      <td>0.010283548</td>\n",
              "      <td>0.66450244</td>\n",
              "      <td>0.6735473</td>\n",
              "      <td>0.6870075</td>\n",
              "      <td>0.6844437</td>\n",
              "      <td>0.66620046</td>\n",
              "    </tr>\n",
              "  </tbody>\n",
              "</table>\n",
              "</div>"
            ],
            "text/plain": [
              "                                 mean  ...   cv_4_valid   cv_5_valid\n",
              "0                     mae   2.2659922  ...    2.3115668    2.2652576\n",
              "1  mean_residual_deviance  0.97230387  ...    1.0001174    0.9518293\n",
              "2                     mse   11.833948  ...    11.919585     12.08566\n",
              "3           null_deviance   1990.5419  ...    2046.0624    1994.6327\n",
              "4                      r2   0.0348991  ...  0.021642817  0.041250523\n",
              "5       residual_deviance   1924.0261  ...    2005.2354    1900.8031\n",
              "6                    rmse   3.4398878  ...    3.4524753    3.4764435\n",
              "7                   rmsle  0.67514026  ...    0.6844437   0.66620046\n",
              "\n",
              "[8 rows x 8 columns]"
            ]
          },
          "metadata": {
            "tags": []
          }
        },
        {
          "output_type": "stream",
          "text": [
            "\n",
            "Scoring History: \n"
          ],
          "name": "stdout"
        },
        {
          "output_type": "display_data",
          "data": {
            "text/html": [
              "<div>\n",
              "<style scoped>\n",
              "    .dataframe tbody tr th:only-of-type {\n",
              "        vertical-align: middle;\n",
              "    }\n",
              "\n",
              "    .dataframe tbody tr th {\n",
              "        vertical-align: top;\n",
              "    }\n",
              "\n",
              "    .dataframe thead th {\n",
              "        text-align: right;\n",
              "    }\n",
              "</style>\n",
              "<table border=\"1\" class=\"dataframe\">\n",
              "  <thead>\n",
              "    <tr style=\"text-align: right;\">\n",
              "      <th></th>\n",
              "      <th></th>\n",
              "      <th>timestamp</th>\n",
              "      <th>duration</th>\n",
              "      <th>iterations</th>\n",
              "      <th>negative_log_likelihood</th>\n",
              "      <th>objective</th>\n",
              "      <th>training_rmse</th>\n",
              "      <th>training_deviance</th>\n",
              "      <th>training_mae</th>\n",
              "      <th>training_r2</th>\n",
              "    </tr>\n",
              "  </thead>\n",
              "  <tbody>\n",
              "    <tr>\n",
              "      <th>0</th>\n",
              "      <td></td>\n",
              "      <td>2020-08-18 14:57:34</td>\n",
              "      <td>0.000 sec</td>\n",
              "      <td>0</td>\n",
              "      <td>9951.842832</td>\n",
              "      <td>1.006355</td>\n",
              "      <td></td>\n",
              "      <td></td>\n",
              "      <td></td>\n",
              "      <td></td>\n",
              "    </tr>\n",
              "    <tr>\n",
              "      <th>1</th>\n",
              "      <td></td>\n",
              "      <td>2020-08-18 14:57:34</td>\n",
              "      <td>0.027 sec</td>\n",
              "      <td>1</td>\n",
              "      <td>9548.267036</td>\n",
              "      <td>0.965544</td>\n",
              "      <td></td>\n",
              "      <td></td>\n",
              "      <td></td>\n",
              "      <td></td>\n",
              "    </tr>\n",
              "    <tr>\n",
              "      <th>2</th>\n",
              "      <td></td>\n",
              "      <td>2020-08-18 14:57:34</td>\n",
              "      <td>0.034 sec</td>\n",
              "      <td>2</td>\n",
              "      <td>9524.676750</td>\n",
              "      <td>0.963159</td>\n",
              "      <td></td>\n",
              "      <td></td>\n",
              "      <td></td>\n",
              "      <td></td>\n",
              "    </tr>\n",
              "    <tr>\n",
              "      <th>3</th>\n",
              "      <td></td>\n",
              "      <td>2020-08-18 14:57:34</td>\n",
              "      <td>0.040 sec</td>\n",
              "      <td>3</td>\n",
              "      <td>9524.161813</td>\n",
              "      <td>0.963107</td>\n",
              "      <td></td>\n",
              "      <td></td>\n",
              "      <td></td>\n",
              "      <td></td>\n",
              "    </tr>\n",
              "    <tr>\n",
              "      <th>4</th>\n",
              "      <td></td>\n",
              "      <td>2020-08-18 14:57:34</td>\n",
              "      <td>0.047 sec</td>\n",
              "      <td>4</td>\n",
              "      <td>9524.158370</td>\n",
              "      <td>0.963106</td>\n",
              "      <td>3.42118</td>\n",
              "      <td>0.963106</td>\n",
              "      <td>2.25617</td>\n",
              "      <td>0.0456822</td>\n",
              "    </tr>\n",
              "  </tbody>\n",
              "</table>\n",
              "</div>"
            ],
            "text/plain": [
              "               timestamp    duration  ...  training_deviance  training_mae  training_r2\n",
              "0    2020-08-18 14:57:34   0.000 sec  ...                                              \n",
              "1    2020-08-18 14:57:34   0.027 sec  ...                                              \n",
              "2    2020-08-18 14:57:34   0.034 sec  ...                                              \n",
              "3    2020-08-18 14:57:34   0.040 sec  ...                                              \n",
              "4    2020-08-18 14:57:34   0.047 sec  ...           0.963106       2.25617    0.0456822\n",
              "\n",
              "[5 rows x 10 columns]"
            ]
          },
          "metadata": {
            "tags": []
          }
        },
        {
          "output_type": "stream",
          "text": [
            "\n"
          ],
          "name": "stdout"
        },
        {
          "output_type": "display_data",
          "data": {
            "image/png": "[encoded data removed]",
            "text/plain": [
              "<Figure size 1008x720 with 1 Axes>"
            ]
          },
          "metadata": {
            "tags": [],
            "needs_background": "light"
          }
        },
        {
          "output_type": "stream",
          "text": [
            "Actual\n",
            "[ 0.716792  0.436689  4.301685 ... 11.368624  0.23993   0.258946]\n",
            "glm prediction progress: |████████████████████████████████████████████████| 100%\n",
            "predicted\n",
            "[2.61484984 1.60509836 2.56626396 ... 3.41086985 2.58526441 3.34436065]\n",
            "Obsreved MSE\n"
          ],
          "name": "stdout"
        },
        {
          "output_type": "execute_result",
          "data": {
            "text/plain": [
              "11.704440065637996"
            ]
          },
          "metadata": {
            "tags": []
          },
          "execution_count": 36
        }
      ]
    },
    {
      "cell_type": "code",
      "metadata": {
        "id": "rtwmeb2GKAEP",
        "colab_type": "code",
        "colab": {
          "base_uri": "https://localhost:8080/",
          "height": 1000
        },
        "outputId": "ffdf1072-6712-41a4-b9d7-f926b63dca3e"
      },
      "source": [
        "from h2o.automl import H2OAutoML\n",
        "predictors = [\"CLASE\",\"MARCA\",\"MODELO\",\"CLASEPOLIZA\",\"ZONA\",\"SEXO\",\"EDAD\",\"VALOR\"]\n",
        "response = \"MONTO\"\n",
        "aml = H2OAutoML(max_models=200, \n",
        "                seed=1, \n",
        "                include_algos=[\"DeepLearning\"], \n",
        "                max_runtime_secs=60*20,\n",
        "                nfolds = 5,\n",
        "                keep_cross_validation_predictions=True)\n",
        "aml.train(x=predictors, y=response, training_frame=train_h)\n",
        "\n",
        "# View the AutoML Leaderboard\n",
        "lb = aml.leaderboard\n",
        "lb.head(rows=lb.nrows)  # Print all rows instead of default (10 rows)\n",
        "aml.leader.predict(train_h)\n",
        "\n",
        "aml.leader.save_mojo()\n",
        "\n",
        "print(aml.leader)"
      ],
      "execution_count": null,
      "outputs": [
        {
          "output_type": "stream",
          "text": [
            "AutoML progress: |████████████████████████████████████████████████████████| 100%\n",
            "deeplearning prediction progress: |███████████████████████████████████████| 100%\n",
            "Model Details\n",
            "=============\n",
            "H2ODeepLearningEstimator :  Deep Learning\n",
            "Model Key:  DeepLearning_grid__2_AutoML_20200818_125600_model_1\n",
            "\n",
            "\n",
            "Status of Neuron Layers: predicting MONTO, regression, gaussian distribution, Quadratic loss, 51,401 weights/biases, 611.4 KB, 532,104 training samples, mini-batch size 1\n"
          ],
          "name": "stdout"
        },
        {
          "output_type": "display_data",
          "data": {
            "text/html": [
              "<div>\n",
              "<style scoped>\n",
              "    .dataframe tbody tr th:only-of-type {\n",
              "        vertical-align: middle;\n",
              "    }\n",
              "\n",
              "    .dataframe tbody tr th {\n",
              "        vertical-align: top;\n",
              "    }\n",
              "\n",
              "    .dataframe thead th {\n",
              "        text-align: right;\n",
              "    }\n",
              "</style>\n",
              "<table border=\"1\" class=\"dataframe\">\n",
              "  <thead>\n",
              "    <tr style=\"text-align: right;\">\n",
              "      <th></th>\n",
              "      <th></th>\n",
              "      <th>layer</th>\n",
              "      <th>units</th>\n",
              "      <th>type</th>\n",
              "      <th>dropout</th>\n",
              "      <th>l1</th>\n",
              "      <th>l2</th>\n",
              "      <th>mean_rate</th>\n",
              "      <th>rate_rms</th>\n",
              "      <th>momentum</th>\n",
              "      <th>mean_weight</th>\n",
              "      <th>weight_rms</th>\n",
              "      <th>mean_bias</th>\n",
              "      <th>bias_rms</th>\n",
              "    </tr>\n",
              "  </thead>\n",
              "  <tbody>\n",
              "    <tr>\n",
              "      <th>0</th>\n",
              "      <td></td>\n",
              "      <td>1</td>\n",
              "      <td>54</td>\n",
              "      <td>Input</td>\n",
              "      <td>0</td>\n",
              "      <td></td>\n",
              "      <td></td>\n",
              "      <td></td>\n",
              "      <td></td>\n",
              "      <td></td>\n",
              "      <td></td>\n",
              "      <td></td>\n",
              "      <td></td>\n",
              "      <td></td>\n",
              "    </tr>\n",
              "    <tr>\n",
              "      <th>1</th>\n",
              "      <td></td>\n",
              "      <td>2</td>\n",
              "      <td>200</td>\n",
              "      <td>RectifierDropout</td>\n",
              "      <td>30</td>\n",
              "      <td>0</td>\n",
              "      <td>0</td>\n",
              "      <td>0.162822</td>\n",
              "      <td>0.369133</td>\n",
              "      <td>0</td>\n",
              "      <td>-0.0371619</td>\n",
              "      <td>0.218375</td>\n",
              "      <td>0.404668</td>\n",
              "      <td>0.432424</td>\n",
              "    </tr>\n",
              "    <tr>\n",
              "      <th>2</th>\n",
              "      <td></td>\n",
              "      <td>3</td>\n",
              "      <td>200</td>\n",
              "      <td>RectifierDropout</td>\n",
              "      <td>30</td>\n",
              "      <td>0</td>\n",
              "      <td>0</td>\n",
              "      <td>0.0690863</td>\n",
              "      <td>0.0642082</td>\n",
              "      <td>0</td>\n",
              "      <td>-0.0316679</td>\n",
              "      <td>0.122165</td>\n",
              "      <td>0.807249</td>\n",
              "      <td>0.172978</td>\n",
              "    </tr>\n",
              "    <tr>\n",
              "      <th>3</th>\n",
              "      <td></td>\n",
              "      <td>4</td>\n",
              "      <td>1</td>\n",
              "      <td>Linear</td>\n",
              "      <td></td>\n",
              "      <td>0</td>\n",
              "      <td>0</td>\n",
              "      <td>0.00137589</td>\n",
              "      <td>0.000783267</td>\n",
              "      <td>0</td>\n",
              "      <td>0.0108385</td>\n",
              "      <td>0.0527693</td>\n",
              "      <td>0.162136</td>\n",
              "      <td>1.09713e-154</td>\n",
              "    </tr>\n",
              "  </tbody>\n",
              "</table>\n",
              "</div>"
            ],
            "text/plain": [
              "     layer  units  ... weight_rms mean_bias      bias_rms\n",
              "0        1     54  ...                                   \n",
              "1        2    200  ...   0.218375  0.404668      0.432424\n",
              "2        3    200  ...   0.122165  0.807249      0.172978\n",
              "3        4      1  ...  0.0527693  0.162136  1.09713e-154\n",
              "\n",
              "[4 rows x 14 columns]"
            ]
          },
          "metadata": {
            "tags": []
          }
        },
        {
          "output_type": "stream",
          "text": [
            "\n",
            "\n",
            "ModelMetricsRegression: deeplearning\n",
            "** Reported on train data. **\n",
            "\n",
            "MSE: 10.395864672182393\n",
            "RMSE: 3.2242618802110963\n",
            "MAE: 2.2243732036069\n",
            "RMSLE: 0.6680001204054449\n",
            "Mean Residual Deviance: 10.395864672182393\n",
            "\n",
            "ModelMetricsRegression: deeplearning\n",
            "** Reported on cross-validation data. **\n",
            "\n",
            "MSE: 11.877162144722556\n",
            "RMSE: 3.4463258906729286\n",
            "MAE: 2.322243973488111\n",
            "RMSLE: 0.6899603458908484\n",
            "Mean Residual Deviance: 11.877162144722556\n",
            "\n",
            "Cross-Validation Metrics Summary: \n"
          ],
          "name": "stdout"
        },
        {
          "output_type": "display_data",
          "data": {
            "text/html": [
              "<div>\n",
              "<style scoped>\n",
              "    .dataframe tbody tr th:only-of-type {\n",
              "        vertical-align: middle;\n",
              "    }\n",
              "\n",
              "    .dataframe tbody tr th {\n",
              "        vertical-align: top;\n",
              "    }\n",
              "\n",
              "    .dataframe thead th {\n",
              "        text-align: right;\n",
              "    }\n",
              "</style>\n",
              "<table border=\"1\" class=\"dataframe\">\n",
              "  <thead>\n",
              "    <tr style=\"text-align: right;\">\n",
              "      <th></th>\n",
              "      <th></th>\n",
              "      <th>mean</th>\n",
              "      <th>sd</th>\n",
              "      <th>cv_1_valid</th>\n",
              "      <th>cv_2_valid</th>\n",
              "      <th>cv_3_valid</th>\n",
              "      <th>cv_4_valid</th>\n",
              "      <th>cv_5_valid</th>\n",
              "    </tr>\n",
              "  </thead>\n",
              "  <tbody>\n",
              "    <tr>\n",
              "      <th>0</th>\n",
              "      <td>mae</td>\n",
              "      <td>2.3222327</td>\n",
              "      <td>0.11380781</td>\n",
              "      <td>2.4308379</td>\n",
              "      <td>2.350617</td>\n",
              "      <td>2.4243834</td>\n",
              "      <td>2.1931884</td>\n",
              "      <td>2.2121375</td>\n",
              "    </tr>\n",
              "    <tr>\n",
              "      <th>1</th>\n",
              "      <td>mean_residual_deviance</td>\n",
              "      <td>11.877009</td>\n",
              "      <td>1.3367841</td>\n",
              "      <td>13.451255</td>\n",
              "      <td>11.664962</td>\n",
              "      <td>13.031407</td>\n",
              "      <td>10.869204</td>\n",
              "      <td>10.36822</td>\n",
              "    </tr>\n",
              "    <tr>\n",
              "      <th>2</th>\n",
              "      <td>mse</td>\n",
              "      <td>11.877009</td>\n",
              "      <td>1.3367841</td>\n",
              "      <td>13.451255</td>\n",
              "      <td>11.664962</td>\n",
              "      <td>13.031407</td>\n",
              "      <td>10.869204</td>\n",
              "      <td>10.36822</td>\n",
              "    </tr>\n",
              "    <tr>\n",
              "      <th>3</th>\n",
              "      <td>r2</td>\n",
              "      <td>0.03134797</td>\n",
              "      <td>0.008695249</td>\n",
              "      <td>0.02166894</td>\n",
              "      <td>0.023185385</td>\n",
              "      <td>0.04022184</td>\n",
              "      <td>0.03923495</td>\n",
              "      <td>0.03242874</td>\n",
              "    </tr>\n",
              "    <tr>\n",
              "      <th>4</th>\n",
              "      <td>residual_deviance</td>\n",
              "      <td>11.877009</td>\n",
              "      <td>1.3367841</td>\n",
              "      <td>13.451255</td>\n",
              "      <td>11.664962</td>\n",
              "      <td>13.031407</td>\n",
              "      <td>10.869204</td>\n",
              "      <td>10.36822</td>\n",
              "    </tr>\n",
              "    <tr>\n",
              "      <th>5</th>\n",
              "      <td>rmse</td>\n",
              "      <td>3.441944</td>\n",
              "      <td>0.19375125</td>\n",
              "      <td>3.6675951</td>\n",
              "      <td>3.4154007</td>\n",
              "      <td>3.609904</td>\n",
              "      <td>3.2968476</td>\n",
              "      <td>3.2199721</td>\n",
              "    </tr>\n",
              "    <tr>\n",
              "      <th>6</th>\n",
              "      <td>rmsle</td>\n",
              "      <td>0.6897888</td>\n",
              "      <td>0.017095383</td>\n",
              "      <td>0.70902306</td>\n",
              "      <td>0.6916089</td>\n",
              "      <td>0.7031873</td>\n",
              "      <td>0.6759332</td>\n",
              "      <td>0.6691917</td>\n",
              "    </tr>\n",
              "  </tbody>\n",
              "</table>\n",
              "</div>"
            ],
            "text/plain": [
              "                                 mean  ...  cv_4_valid  cv_5_valid\n",
              "0                     mae   2.3222327  ...   2.1931884   2.2121375\n",
              "1  mean_residual_deviance   11.877009  ...   10.869204    10.36822\n",
              "2                     mse   11.877009  ...   10.869204    10.36822\n",
              "3                      r2  0.03134797  ...  0.03923495  0.03242874\n",
              "4       residual_deviance   11.877009  ...   10.869204    10.36822\n",
              "5                    rmse    3.441944  ...   3.2968476   3.2199721\n",
              "6                   rmsle   0.6897888  ...   0.6759332   0.6691917\n",
              "\n",
              "[7 rows x 8 columns]"
            ]
          },
          "metadata": {
            "tags": []
          }
        },
        {
          "output_type": "stream",
          "text": [
            "\n",
            "Scoring History: \n"
          ],
          "name": "stdout"
        },
        {
          "output_type": "display_data",
          "data": {
            "text/html": [
              "<div>\n",
              "<style scoped>\n",
              "    .dataframe tbody tr th:only-of-type {\n",
              "        vertical-align: middle;\n",
              "    }\n",
              "\n",
              "    .dataframe tbody tr th {\n",
              "        vertical-align: top;\n",
              "    }\n",
              "\n",
              "    .dataframe thead th {\n",
              "        text-align: right;\n",
              "    }\n",
              "</style>\n",
              "<table border=\"1\" class=\"dataframe\">\n",
              "  <thead>\n",
              "    <tr style=\"text-align: right;\">\n",
              "      <th></th>\n",
              "      <th></th>\n",
              "      <th>timestamp</th>\n",
              "      <th>duration</th>\n",
              "      <th>training_speed</th>\n",
              "      <th>epochs</th>\n",
              "      <th>iterations</th>\n",
              "      <th>samples</th>\n",
              "      <th>training_rmse</th>\n",
              "      <th>training_deviance</th>\n",
              "      <th>training_mae</th>\n",
              "      <th>training_r2</th>\n",
              "    </tr>\n",
              "  </thead>\n",
              "  <tbody>\n",
              "    <tr>\n",
              "      <th>0</th>\n",
              "      <td></td>\n",
              "      <td>2020-08-18 13:06:41</td>\n",
              "      <td>0.000 sec</td>\n",
              "      <td>None</td>\n",
              "      <td>0.000000</td>\n",
              "      <td>0</td>\n",
              "      <td>0.0</td>\n",
              "      <td>NaN</td>\n",
              "      <td>NaN</td>\n",
              "      <td>NaN</td>\n",
              "      <td>NaN</td>\n",
              "    </tr>\n",
              "    <tr>\n",
              "      <th>1</th>\n",
              "      <td></td>\n",
              "      <td>2020-08-18 13:06:43</td>\n",
              "      <td>3 min 48.881 sec</td>\n",
              "      <td>4582 obs/sec</td>\n",
              "      <td>0.844777</td>\n",
              "      <td>1</td>\n",
              "      <td>8354.0</td>\n",
              "      <td>3.515891</td>\n",
              "      <td>12.361491</td>\n",
              "      <td>2.138255</td>\n",
              "      <td>-0.007890</td>\n",
              "    </tr>\n",
              "    <tr>\n",
              "      <th>2</th>\n",
              "      <td></td>\n",
              "      <td>2020-08-18 13:06:50</td>\n",
              "      <td>3 min 56.032 sec</td>\n",
              "      <td>8951 obs/sec</td>\n",
              "      <td>7.573465</td>\n",
              "      <td>9</td>\n",
              "      <td>74894.0</td>\n",
              "      <td>3.426098</td>\n",
              "      <td>11.738151</td>\n",
              "      <td>2.294336</td>\n",
              "      <td>0.042934</td>\n",
              "    </tr>\n",
              "    <tr>\n",
              "      <th>3</th>\n",
              "      <td></td>\n",
              "      <td>2020-08-18 13:06:56</td>\n",
              "      <td>4 min  2.582 sec</td>\n",
              "      <td>9888 obs/sec</td>\n",
              "      <td>14.309232</td>\n",
              "      <td>17</td>\n",
              "      <td>141504.0</td>\n",
              "      <td>3.406273</td>\n",
              "      <td>11.602695</td>\n",
              "      <td>2.357225</td>\n",
              "      <td>0.053978</td>\n",
              "    </tr>\n",
              "    <tr>\n",
              "      <th>4</th>\n",
              "      <td></td>\n",
              "      <td>2020-08-18 13:07:03</td>\n",
              "      <td>4 min  9.028 sec</td>\n",
              "      <td>10373 obs/sec</td>\n",
              "      <td>21.037921</td>\n",
              "      <td>25</td>\n",
              "      <td>208044.0</td>\n",
              "      <td>3.360347</td>\n",
              "      <td>11.291934</td>\n",
              "      <td>2.210507</td>\n",
              "      <td>0.079316</td>\n",
              "    </tr>\n",
              "    <tr>\n",
              "      <th>5</th>\n",
              "      <td></td>\n",
              "      <td>2020-08-18 13:07:10</td>\n",
              "      <td>4 min 16.072 sec</td>\n",
              "      <td>10677 obs/sec</td>\n",
              "      <td>28.604712</td>\n",
              "      <td>34</td>\n",
              "      <td>282872.0</td>\n",
              "      <td>3.331675</td>\n",
              "      <td>11.100059</td>\n",
              "      <td>2.151702</td>\n",
              "      <td>0.094960</td>\n",
              "    </tr>\n",
              "    <tr>\n",
              "      <th>6</th>\n",
              "      <td></td>\n",
              "      <td>2020-08-18 13:07:16</td>\n",
              "      <td>4 min 22.200 sec</td>\n",
              "      <td>10907 obs/sec</td>\n",
              "      <td>35.304480</td>\n",
              "      <td>42</td>\n",
              "      <td>349126.0</td>\n",
              "      <td>3.296029</td>\n",
              "      <td>10.863805</td>\n",
              "      <td>2.212907</td>\n",
              "      <td>0.114223</td>\n",
              "    </tr>\n",
              "    <tr>\n",
              "      <th>7</th>\n",
              "      <td></td>\n",
              "      <td>2020-08-18 13:07:23</td>\n",
              "      <td>4 min 29.072 sec</td>\n",
              "      <td>11105 obs/sec</td>\n",
              "      <td>42.891091</td>\n",
              "      <td>51</td>\n",
              "      <td>424150.0</td>\n",
              "      <td>3.278111</td>\n",
              "      <td>10.746015</td>\n",
              "      <td>2.131274</td>\n",
              "      <td>0.123827</td>\n",
              "    </tr>\n",
              "    <tr>\n",
              "      <th>8</th>\n",
              "      <td></td>\n",
              "      <td>2020-08-18 13:07:30</td>\n",
              "      <td>4 min 36.367 sec</td>\n",
              "      <td>11300 obs/sec</td>\n",
              "      <td>51.285873</td>\n",
              "      <td>61</td>\n",
              "      <td>507166.0</td>\n",
              "      <td>3.246528</td>\n",
              "      <td>10.539946</td>\n",
              "      <td>2.062183</td>\n",
              "      <td>0.140629</td>\n",
              "    </tr>\n",
              "    <tr>\n",
              "      <th>9</th>\n",
              "      <td></td>\n",
              "      <td>2020-08-18 13:07:33</td>\n",
              "      <td>4 min 38.961 sec</td>\n",
              "      <td>11352 obs/sec</td>\n",
              "      <td>53.807665</td>\n",
              "      <td>64</td>\n",
              "      <td>532104.0</td>\n",
              "      <td>3.224262</td>\n",
              "      <td>10.395865</td>\n",
              "      <td>2.224373</td>\n",
              "      <td>0.152376</td>\n",
              "    </tr>\n",
              "  </tbody>\n",
              "</table>\n",
              "</div>"
            ],
            "text/plain": [
              "               timestamp  ... training_mae training_r2\n",
              "0    2020-08-18 13:06:41  ...          NaN         NaN\n",
              "1    2020-08-18 13:06:43  ...     2.138255   -0.007890\n",
              "2    2020-08-18 13:06:50  ...     2.294336    0.042934\n",
              "3    2020-08-18 13:06:56  ...     2.357225    0.053978\n",
              "4    2020-08-18 13:07:03  ...     2.210507    0.079316\n",
              "5    2020-08-18 13:07:10  ...     2.151702    0.094960\n",
              "6    2020-08-18 13:07:16  ...     2.212907    0.114223\n",
              "7    2020-08-18 13:07:23  ...     2.131274    0.123827\n",
              "8    2020-08-18 13:07:30  ...     2.062183    0.140629\n",
              "9    2020-08-18 13:07:33  ...     2.224373    0.152376\n",
              "\n",
              "[10 rows x 11 columns]"
            ]
          },
          "metadata": {
            "tags": []
          }
        },
        {
          "output_type": "stream",
          "text": [
            "\n",
            "Variable Importances: \n"
          ],
          "name": "stdout"
        },
        {
          "output_type": "display_data",
          "data": {
            "text/html": [
              "<div>\n",
              "<style scoped>\n",
              "    .dataframe tbody tr th:only-of-type {\n",
              "        vertical-align: middle;\n",
              "    }\n",
              "\n",
              "    .dataframe tbody tr th {\n",
              "        vertical-align: top;\n",
              "    }\n",
              "\n",
              "    .dataframe thead th {\n",
              "        text-align: right;\n",
              "    }\n",
              "</style>\n",
              "<table border=\"1\" class=\"dataframe\">\n",
              "  <thead>\n",
              "    <tr style=\"text-align: right;\">\n",
              "      <th></th>\n",
              "      <th>variable</th>\n",
              "      <th>relative_importance</th>\n",
              "      <th>scaled_importance</th>\n",
              "      <th>percentage</th>\n",
              "    </tr>\n",
              "  </thead>\n",
              "  <tbody>\n",
              "    <tr>\n",
              "      <th>0</th>\n",
              "      <td>CLASE.AU</td>\n",
              "      <td>1.000000</td>\n",
              "      <td>1.000000</td>\n",
              "      <td>0.036752</td>\n",
              "    </tr>\n",
              "    <tr>\n",
              "      <th>1</th>\n",
              "      <td>MARCA.CH</td>\n",
              "      <td>0.830808</td>\n",
              "      <td>0.830808</td>\n",
              "      <td>0.030534</td>\n",
              "    </tr>\n",
              "    <tr>\n",
              "      <th>2</th>\n",
              "      <td>VALOR.V2</td>\n",
              "      <td>0.814981</td>\n",
              "      <td>0.814981</td>\n",
              "      <td>0.029952</td>\n",
              "    </tr>\n",
              "    <tr>\n",
              "      <th>3</th>\n",
              "      <td>MARCA.LU</td>\n",
              "      <td>0.752701</td>\n",
              "      <td>0.752701</td>\n",
              "      <td>0.027663</td>\n",
              "    </tr>\n",
              "    <tr>\n",
              "      <th>4</th>\n",
              "      <td>MODELO.M4</td>\n",
              "      <td>0.709681</td>\n",
              "      <td>0.709681</td>\n",
              "      <td>0.026082</td>\n",
              "    </tr>\n",
              "    <tr>\n",
              "      <th>5</th>\n",
              "      <td>CLASEPOLIZA.POLIZA COLECTIVA</td>\n",
              "      <td>0.704528</td>\n",
              "      <td>0.704528</td>\n",
              "      <td>0.025893</td>\n",
              "    </tr>\n",
              "    <tr>\n",
              "      <th>6</th>\n",
              "      <td>MODELO.M5</td>\n",
              "      <td>0.703074</td>\n",
              "      <td>0.703074</td>\n",
              "      <td>0.025839</td>\n",
              "    </tr>\n",
              "    <tr>\n",
              "      <th>7</th>\n",
              "      <td>VALOR.V3</td>\n",
              "      <td>0.698953</td>\n",
              "      <td>0.698953</td>\n",
              "      <td>0.025688</td>\n",
              "    </tr>\n",
              "    <tr>\n",
              "      <th>8</th>\n",
              "      <td>MARCA.RE</td>\n",
              "      <td>0.686701</td>\n",
              "      <td>0.686701</td>\n",
              "      <td>0.025237</td>\n",
              "    </tr>\n",
              "    <tr>\n",
              "      <th>9</th>\n",
              "      <td>ZONA.AN</td>\n",
              "      <td>0.668752</td>\n",
              "      <td>0.668752</td>\n",
              "      <td>0.024578</td>\n",
              "    </tr>\n",
              "    <tr>\n",
              "      <th>10</th>\n",
              "      <td>MARCA.US</td>\n",
              "      <td>0.666809</td>\n",
              "      <td>0.666809</td>\n",
              "      <td>0.024506</td>\n",
              "    </tr>\n",
              "    <tr>\n",
              "      <th>11</th>\n",
              "      <td>VALOR.V4</td>\n",
              "      <td>0.661742</td>\n",
              "      <td>0.661742</td>\n",
              "      <td>0.024320</td>\n",
              "    </tr>\n",
              "    <tr>\n",
              "      <th>12</th>\n",
              "      <td>MARCA.MZ</td>\n",
              "      <td>0.651263</td>\n",
              "      <td>0.651263</td>\n",
              "      <td>0.023935</td>\n",
              "    </tr>\n",
              "    <tr>\n",
              "      <th>13</th>\n",
              "      <td>MARCA.EU</td>\n",
              "      <td>0.641357</td>\n",
              "      <td>0.641357</td>\n",
              "      <td>0.023571</td>\n",
              "    </tr>\n",
              "    <tr>\n",
              "      <th>14</th>\n",
              "      <td>MODELO.M7</td>\n",
              "      <td>0.635974</td>\n",
              "      <td>0.635974</td>\n",
              "      <td>0.023373</td>\n",
              "    </tr>\n",
              "    <tr>\n",
              "      <th>15</th>\n",
              "      <td>ZONA.CE</td>\n",
              "      <td>0.603736</td>\n",
              "      <td>0.603736</td>\n",
              "      <td>0.022188</td>\n",
              "    </tr>\n",
              "    <tr>\n",
              "      <th>16</th>\n",
              "      <td>EDAD.E4</td>\n",
              "      <td>0.597373</td>\n",
              "      <td>0.597373</td>\n",
              "      <td>0.021954</td>\n",
              "    </tr>\n",
              "    <tr>\n",
              "      <th>17</th>\n",
              "      <td>ZONA.BG</td>\n",
              "      <td>0.597251</td>\n",
              "      <td>0.597251</td>\n",
              "      <td>0.021950</td>\n",
              "    </tr>\n",
              "    <tr>\n",
              "      <th>18</th>\n",
              "      <td>SEXO.F</td>\n",
              "      <td>0.597002</td>\n",
              "      <td>0.597002</td>\n",
              "      <td>0.021941</td>\n",
              "    </tr>\n",
              "    <tr>\n",
              "      <th>19</th>\n",
              "      <td>MODELO.M1</td>\n",
              "      <td>0.586421</td>\n",
              "      <td>0.586421</td>\n",
              "      <td>0.021552</td>\n",
              "    </tr>\n",
              "  </tbody>\n",
              "</table>\n",
              "</div>"
            ],
            "text/plain": [
              "                        variable  ...  percentage\n",
              "0                       CLASE.AU  ...    0.036752\n",
              "1                       MARCA.CH  ...    0.030534\n",
              "2                       VALOR.V2  ...    0.029952\n",
              "3                       MARCA.LU  ...    0.027663\n",
              "4                      MODELO.M4  ...    0.026082\n",
              "5   CLASEPOLIZA.POLIZA COLECTIVA  ...    0.025893\n",
              "6                      MODELO.M5  ...    0.025839\n",
              "7                       VALOR.V3  ...    0.025688\n",
              "8                       MARCA.RE  ...    0.025237\n",
              "9                        ZONA.AN  ...    0.024578\n",
              "10                      MARCA.US  ...    0.024506\n",
              "11                      VALOR.V4  ...    0.024320\n",
              "12                      MARCA.MZ  ...    0.023935\n",
              "13                      MARCA.EU  ...    0.023571\n",
              "14                     MODELO.M7  ...    0.023373\n",
              "15                       ZONA.CE  ...    0.022188\n",
              "16                       EDAD.E4  ...    0.021954\n",
              "17                       ZONA.BG  ...    0.021950\n",
              "18                        SEXO.F  ...    0.021941\n",
              "19                     MODELO.M1  ...    0.021552\n",
              "\n",
              "[20 rows x 4 columns]"
            ]
          },
          "metadata": {
            "tags": []
          }
        },
        {
          "output_type": "stream",
          "text": [
            "\n",
            "See the whole table with table.as_data_frame()\n",
            "\n"
          ],
          "name": "stdout"
        }
      ]
    },
    {
      "cell_type": "code",
      "metadata": {
        "id": "WqGKryLmNJvg",
        "colab_type": "code",
        "colab": {
          "base_uri": "https://localhost:8080/",
          "height": 136
        },
        "outputId": "1300ef02-9559-4b34-86b0-2e484cfa726a"
      },
      "source": [
        "print(\"Actual\")\n",
        "actual = np.array(train[response])\n",
        "print(actual)\n",
        "\n",
        "pred_df = aml.leader.predict(train_h)\n",
        "predicted = np.array(pred_df.as_data_frame()[\"predict\"])\n",
        "print(\"predicted\")\n",
        "print(predicted)\n",
        "\n",
        "print(\"Obsreved MSE\")\n",
        "np.sum(np.square(actual-predicted))/len(predicted)"
      ],
      "execution_count": null,
      "outputs": [
        {
          "output_type": "stream",
          "text": [
            "Actual\n",
            "[ 0.716792  0.436689  4.301685 ... 11.368624  0.23993   0.258946]\n",
            "deeplearning prediction progress: |███████████████████████████████████████| 100%\n",
            "predicted\n",
            "[2.84567708 2.26565862 2.7191032  ... 3.6000475  2.33124085 2.7783478 ]\n",
            "Obsreved MSE\n"
          ],
          "name": "stdout"
        },
        {
          "output_type": "execute_result",
          "data": {
            "text/plain": [
              "10.395864675308417"
            ]
          },
          "metadata": {
            "tags": []
          },
          "execution_count": 26
        }
      ]
    },
    {
      "cell_type": "code",
      "metadata": {
        "id": "kV4ShjexOxWP",
        "colab_type": "code",
        "colab": {
          "base_uri": "https://localhost:8080/",
          "height": 597
        },
        "outputId": "d1ccdfdc-a79c-456d-9d3a-e4107413638d"
      },
      "source": [
        "aml.leader.varimp_plot()"
      ],
      "execution_count": null,
      "outputs": [
        {
          "output_type": "display_data",
          "data": {
            "image/png": "[encoded data removed]",
            "text/plain": [
              "<Figure size 1008x720 with 1 Axes>"
            ]
          },
          "metadata": {
            "tags": [],
            "needs_background": "light"
          }
        }
      ]
    },
    {
      "cell_type": "code",
      "metadata": {
        "id": "ASoFGtzR4xCa",
        "colab_type": "code",
        "colab": {
          "base_uri": "https://localhost:8080/",
          "height": 1000
        },
        "outputId": "1c816878-d587-4230-b547-d71b619e6607"
      },
      "source": [
        "from h2o.automl import H2OAutoML\n",
        "\n",
        "predictors = [\"CLASE\",\"MARCA\",\"MODELO\",\"CLASEPOLIZA\",\"ZONA\",\"SEXO\",\"EDAD\",\"VALOR\"]\n",
        "response = \"MONTO\"\n",
        "aml = H2OAutoML(max_models=200, \n",
        "                seed=1, \n",
        "                include_algos=[\"DRF\", \"GBM\", \"XGBoost\"],\n",
        "                max_runtime_secs=60*20,\n",
        "                nfolds = 5,\n",
        "                keep_cross_validation_predictions=True)\n",
        "\n",
        "aml.train(x=predictors, y=response, training_frame=train_h)\n",
        "\n",
        "# View the AutoML Leaderboard\n",
        "lb = aml.leaderboard\n",
        "lb.head(rows=lb.nrows)  # Print all rows instead of default (10 rows)\n",
        "\n",
        "aml.leader.save_mojo()\n",
        "\n",
        "print(aml.leader)"
      ],
      "execution_count": null,
      "outputs": [
        {
          "output_type": "stream",
          "text": [
            "AutoML progress: |████████████████████████████████████████████████████████| 100%\n",
            "Model Details\n",
            "=============\n",
            "H2OGradientBoostingEstimator :  Gradient Boosting Machine\n",
            "Model Key:  GBM_grid__1_AutoML_20200818_131620_model_4\n",
            "\n",
            "\n",
            "Model Summary: \n"
          ],
          "name": "stdout"
        },
        {
          "output_type": "display_data",
          "data": {
            "text/html": [
              "<div>\n",
              "<style scoped>\n",
              "    .dataframe tbody tr th:only-of-type {\n",
              "        vertical-align: middle;\n",
              "    }\n",
              "\n",
              "    .dataframe tbody tr th {\n",
              "        vertical-align: top;\n",
              "    }\n",
              "\n",
              "    .dataframe thead th {\n",
              "        text-align: right;\n",
              "    }\n",
              "</style>\n",
              "<table border=\"1\" class=\"dataframe\">\n",
              "  <thead>\n",
              "    <tr style=\"text-align: right;\">\n",
              "      <th></th>\n",
              "      <th></th>\n",
              "      <th>number_of_trees</th>\n",
              "      <th>number_of_internal_trees</th>\n",
              "      <th>model_size_in_bytes</th>\n",
              "      <th>min_depth</th>\n",
              "      <th>max_depth</th>\n",
              "      <th>mean_depth</th>\n",
              "      <th>min_leaves</th>\n",
              "      <th>max_leaves</th>\n",
              "      <th>mean_leaves</th>\n",
              "    </tr>\n",
              "  </thead>\n",
              "  <tbody>\n",
              "    <tr>\n",
              "      <th>0</th>\n",
              "      <td></td>\n",
              "      <td>35.0</td>\n",
              "      <td>35.0</td>\n",
              "      <td>5389.0</td>\n",
              "      <td>3.0</td>\n",
              "      <td>3.0</td>\n",
              "      <td>3.0</td>\n",
              "      <td>7.0</td>\n",
              "      <td>8.0</td>\n",
              "      <td>7.628571</td>\n",
              "    </tr>\n",
              "  </tbody>\n",
              "</table>\n",
              "</div>"
            ],
            "text/plain": [
              "     number_of_trees  ...  max_leaves  mean_leaves\n",
              "0               35.0  ...         8.0     7.628571\n",
              "\n",
              "[1 rows x 10 columns]"
            ]
          },
          "metadata": {
            "tags": []
          }
        },
        {
          "output_type": "stream",
          "text": [
            "\n",
            "\n",
            "ModelMetricsRegression: gbm\n",
            "** Reported on train data. **\n",
            "\n",
            "MSE: 11.462049642803692\n",
            "RMSE: 3.3855648927178597\n",
            "MAE: 2.2365020655484718\n",
            "RMSLE: 0.6676365864154147\n",
            "Mean Residual Deviance: 11.462049642803692\n",
            "\n",
            "ModelMetricsRegression: gbm\n",
            "** Reported on cross-validation data. **\n",
            "\n",
            "MSE: 11.780521310460019\n",
            "RMSE: 3.4322764035636784\n",
            "MAE: 2.258759370986857\n",
            "RMSLE: 0.6734643927014375\n",
            "Mean Residual Deviance: 11.780521310460019\n",
            "\n",
            "Cross-Validation Metrics Summary: \n"
          ],
          "name": "stdout"
        },
        {
          "output_type": "display_data",
          "data": {
            "text/html": [
              "<div>\n",
              "<style scoped>\n",
              "    .dataframe tbody tr th:only-of-type {\n",
              "        vertical-align: middle;\n",
              "    }\n",
              "\n",
              "    .dataframe tbody tr th {\n",
              "        vertical-align: top;\n",
              "    }\n",
              "\n",
              "    .dataframe thead th {\n",
              "        text-align: right;\n",
              "    }\n",
              "</style>\n",
              "<table border=\"1\" class=\"dataframe\">\n",
              "  <thead>\n",
              "    <tr style=\"text-align: right;\">\n",
              "      <th></th>\n",
              "      <th></th>\n",
              "      <th>mean</th>\n",
              "      <th>sd</th>\n",
              "      <th>cv_1_valid</th>\n",
              "      <th>cv_2_valid</th>\n",
              "      <th>cv_3_valid</th>\n",
              "      <th>cv_4_valid</th>\n",
              "      <th>cv_5_valid</th>\n",
              "    </tr>\n",
              "  </thead>\n",
              "  <tbody>\n",
              "    <tr>\n",
              "      <th>0</th>\n",
              "      <td>mae</td>\n",
              "      <td>2.258755</td>\n",
              "      <td>0.052152414</td>\n",
              "      <td>2.2785902</td>\n",
              "      <td>2.259612</td>\n",
              "      <td>2.3346708</td>\n",
              "      <td>2.2051792</td>\n",
              "      <td>2.2157228</td>\n",
              "    </tr>\n",
              "    <tr>\n",
              "      <th>1</th>\n",
              "      <td>mean_residual_deviance</td>\n",
              "      <td>11.780379</td>\n",
              "      <td>1.3000149</td>\n",
              "      <td>13.147192</td>\n",
              "      <td>11.35724</td>\n",
              "      <td>13.157931</td>\n",
              "      <td>10.865975</td>\n",
              "      <td>10.373558</td>\n",
              "    </tr>\n",
              "    <tr>\n",
              "      <th>2</th>\n",
              "      <td>mse</td>\n",
              "      <td>11.780379</td>\n",
              "      <td>1.3000149</td>\n",
              "      <td>13.147192</td>\n",
              "      <td>11.35724</td>\n",
              "      <td>13.157931</td>\n",
              "      <td>10.865975</td>\n",
              "      <td>10.373558</td>\n",
              "    </tr>\n",
              "    <tr>\n",
              "      <th>3</th>\n",
              "      <td>r2</td>\n",
              "      <td>0.03901838</td>\n",
              "      <td>0.00770985</td>\n",
              "      <td>0.043783907</td>\n",
              "      <td>0.048953835</td>\n",
              "      <td>0.030903269</td>\n",
              "      <td>0.03952031</td>\n",
              "      <td>0.031930596</td>\n",
              "    </tr>\n",
              "    <tr>\n",
              "      <th>4</th>\n",
              "      <td>residual_deviance</td>\n",
              "      <td>11.780379</td>\n",
              "      <td>1.3000149</td>\n",
              "      <td>13.147192</td>\n",
              "      <td>11.35724</td>\n",
              "      <td>13.157931</td>\n",
              "      <td>10.865975</td>\n",
              "      <td>10.373558</td>\n",
              "    </tr>\n",
              "    <tr>\n",
              "      <th>5</th>\n",
              "      <td>rmse</td>\n",
              "      <td>3.4281</td>\n",
              "      <td>0.18877287</td>\n",
              "      <td>3.6259058</td>\n",
              "      <td>3.3700504</td>\n",
              "      <td>3.6273863</td>\n",
              "      <td>3.2963579</td>\n",
              "      <td>3.2208009</td>\n",
              "    </tr>\n",
              "    <tr>\n",
              "      <th>6</th>\n",
              "      <td>rmsle</td>\n",
              "      <td>0.6734432</td>\n",
              "      <td>0.005936306</td>\n",
              "      <td>0.6692555</td>\n",
              "      <td>0.6685474</td>\n",
              "      <td>0.68256795</td>\n",
              "      <td>0.67626774</td>\n",
              "      <td>0.6705773</td>\n",
              "    </tr>\n",
              "  </tbody>\n",
              "</table>\n",
              "</div>"
            ],
            "text/plain": [
              "                                 mean  ...  cv_4_valid   cv_5_valid\n",
              "0                     mae    2.258755  ...   2.2051792    2.2157228\n",
              "1  mean_residual_deviance   11.780379  ...   10.865975    10.373558\n",
              "2                     mse   11.780379  ...   10.865975    10.373558\n",
              "3                      r2  0.03901838  ...  0.03952031  0.031930596\n",
              "4       residual_deviance   11.780379  ...   10.865975    10.373558\n",
              "5                    rmse      3.4281  ...   3.2963579    3.2208009\n",
              "6                   rmsle   0.6734432  ...  0.67626774    0.6705773\n",
              "\n",
              "[7 rows x 8 columns]"
            ]
          },
          "metadata": {
            "tags": []
          }
        },
        {
          "output_type": "stream",
          "text": [
            "\n",
            "Scoring History: \n"
          ],
          "name": "stdout"
        },
        {
          "output_type": "display_data",
          "data": {
            "text/html": [
              "<div>\n",
              "<style scoped>\n",
              "    .dataframe tbody tr th:only-of-type {\n",
              "        vertical-align: middle;\n",
              "    }\n",
              "\n",
              "    .dataframe tbody tr th {\n",
              "        vertical-align: top;\n",
              "    }\n",
              "\n",
              "    .dataframe thead th {\n",
              "        text-align: right;\n",
              "    }\n",
              "</style>\n",
              "<table border=\"1\" class=\"dataframe\">\n",
              "  <thead>\n",
              "    <tr style=\"text-align: right;\">\n",
              "      <th></th>\n",
              "      <th></th>\n",
              "      <th>timestamp</th>\n",
              "      <th>duration</th>\n",
              "      <th>number_of_trees</th>\n",
              "      <th>training_rmse</th>\n",
              "      <th>training_mae</th>\n",
              "      <th>training_deviance</th>\n",
              "    </tr>\n",
              "  </thead>\n",
              "  <tbody>\n",
              "    <tr>\n",
              "      <th>0</th>\n",
              "      <td></td>\n",
              "      <td>2020-08-18 13:19:40</td>\n",
              "      <td>9.960 sec</td>\n",
              "      <td>0.0</td>\n",
              "      <td>3.502102</td>\n",
              "      <td>2.280448</td>\n",
              "      <td>12.264719</td>\n",
              "    </tr>\n",
              "    <tr>\n",
              "      <th>1</th>\n",
              "      <td></td>\n",
              "      <td>2020-08-18 13:19:40</td>\n",
              "      <td>9.990 sec</td>\n",
              "      <td>5.0</td>\n",
              "      <td>3.463591</td>\n",
              "      <td>2.262365</td>\n",
              "      <td>11.996463</td>\n",
              "    </tr>\n",
              "    <tr>\n",
              "      <th>2</th>\n",
              "      <td></td>\n",
              "      <td>2020-08-18 13:19:40</td>\n",
              "      <td>10.019 sec</td>\n",
              "      <td>10.0</td>\n",
              "      <td>3.440627</td>\n",
              "      <td>2.254644</td>\n",
              "      <td>11.837913</td>\n",
              "    </tr>\n",
              "    <tr>\n",
              "      <th>3</th>\n",
              "      <td></td>\n",
              "      <td>2020-08-18 13:19:40</td>\n",
              "      <td>10.049 sec</td>\n",
              "      <td>15.0</td>\n",
              "      <td>3.421243</td>\n",
              "      <td>2.249268</td>\n",
              "      <td>11.704901</td>\n",
              "    </tr>\n",
              "    <tr>\n",
              "      <th>4</th>\n",
              "      <td></td>\n",
              "      <td>2020-08-18 13:19:40</td>\n",
              "      <td>10.079 sec</td>\n",
              "      <td>20.0</td>\n",
              "      <td>3.409072</td>\n",
              "      <td>2.244707</td>\n",
              "      <td>11.621774</td>\n",
              "    </tr>\n",
              "    <tr>\n",
              "      <th>5</th>\n",
              "      <td></td>\n",
              "      <td>2020-08-18 13:19:40</td>\n",
              "      <td>10.109 sec</td>\n",
              "      <td>25.0</td>\n",
              "      <td>3.399345</td>\n",
              "      <td>2.241354</td>\n",
              "      <td>11.555543</td>\n",
              "    </tr>\n",
              "    <tr>\n",
              "      <th>6</th>\n",
              "      <td></td>\n",
              "      <td>2020-08-18 13:19:40</td>\n",
              "      <td>10.145 sec</td>\n",
              "      <td>30.0</td>\n",
              "      <td>3.390940</td>\n",
              "      <td>2.238796</td>\n",
              "      <td>11.498472</td>\n",
              "    </tr>\n",
              "    <tr>\n",
              "      <th>7</th>\n",
              "      <td></td>\n",
              "      <td>2020-08-18 13:19:40</td>\n",
              "      <td>10.178 sec</td>\n",
              "      <td>35.0</td>\n",
              "      <td>3.385565</td>\n",
              "      <td>2.236502</td>\n",
              "      <td>11.462050</td>\n",
              "    </tr>\n",
              "  </tbody>\n",
              "</table>\n",
              "</div>"
            ],
            "text/plain": [
              "               timestamp  ... training_mae  training_deviance\n",
              "0    2020-08-18 13:19:40  ...     2.280448          12.264719\n",
              "1    2020-08-18 13:19:40  ...     2.262365          11.996463\n",
              "2    2020-08-18 13:19:40  ...     2.254644          11.837913\n",
              "3    2020-08-18 13:19:40  ...     2.249268          11.704901\n",
              "4    2020-08-18 13:19:40  ...     2.244707          11.621774\n",
              "5    2020-08-18 13:19:40  ...     2.241354          11.555543\n",
              "6    2020-08-18 13:19:40  ...     2.238796          11.498472\n",
              "7    2020-08-18 13:19:40  ...     2.236502          11.462050\n",
              "\n",
              "[8 rows x 7 columns]"
            ]
          },
          "metadata": {
            "tags": []
          }
        },
        {
          "output_type": "stream",
          "text": [
            "\n",
            "Variable Importances: \n"
          ],
          "name": "stdout"
        },
        {
          "output_type": "display_data",
          "data": {
            "text/html": [
              "<div>\n",
              "<style scoped>\n",
              "    .dataframe tbody tr th:only-of-type {\n",
              "        vertical-align: middle;\n",
              "    }\n",
              "\n",
              "    .dataframe tbody tr th {\n",
              "        vertical-align: top;\n",
              "    }\n",
              "\n",
              "    .dataframe thead th {\n",
              "        text-align: right;\n",
              "    }\n",
              "</style>\n",
              "<table border=\"1\" class=\"dataframe\">\n",
              "  <thead>\n",
              "    <tr style=\"text-align: right;\">\n",
              "      <th></th>\n",
              "      <th>variable</th>\n",
              "      <th>relative_importance</th>\n",
              "      <th>scaled_importance</th>\n",
              "      <th>percentage</th>\n",
              "    </tr>\n",
              "  </thead>\n",
              "  <tbody>\n",
              "    <tr>\n",
              "      <th>0</th>\n",
              "      <td>MARCA</td>\n",
              "      <td>13630.127930</td>\n",
              "      <td>1.000000</td>\n",
              "      <td>0.326260</td>\n",
              "    </tr>\n",
              "    <tr>\n",
              "      <th>1</th>\n",
              "      <td>CLASE</td>\n",
              "      <td>8374.124023</td>\n",
              "      <td>0.614383</td>\n",
              "      <td>0.200449</td>\n",
              "    </tr>\n",
              "    <tr>\n",
              "      <th>2</th>\n",
              "      <td>VALOR</td>\n",
              "      <td>4656.590820</td>\n",
              "      <td>0.341640</td>\n",
              "      <td>0.111463</td>\n",
              "    </tr>\n",
              "    <tr>\n",
              "      <th>3</th>\n",
              "      <td>EDAD</td>\n",
              "      <td>4646.663574</td>\n",
              "      <td>0.340911</td>\n",
              "      <td>0.111226</td>\n",
              "    </tr>\n",
              "    <tr>\n",
              "      <th>4</th>\n",
              "      <td>MODELO</td>\n",
              "      <td>4567.957031</td>\n",
              "      <td>0.335137</td>\n",
              "      <td>0.109342</td>\n",
              "    </tr>\n",
              "    <tr>\n",
              "      <th>5</th>\n",
              "      <td>ZONA</td>\n",
              "      <td>3366.610840</td>\n",
              "      <td>0.246998</td>\n",
              "      <td>0.080586</td>\n",
              "    </tr>\n",
              "    <tr>\n",
              "      <th>6</th>\n",
              "      <td>SEXO</td>\n",
              "      <td>1570.539307</td>\n",
              "      <td>0.115226</td>\n",
              "      <td>0.037594</td>\n",
              "    </tr>\n",
              "    <tr>\n",
              "      <th>7</th>\n",
              "      <td>CLASEPOLIZA</td>\n",
              "      <td>964.244080</td>\n",
              "      <td>0.070744</td>\n",
              "      <td>0.023081</td>\n",
              "    </tr>\n",
              "  </tbody>\n",
              "</table>\n",
              "</div>"
            ],
            "text/plain": [
              "      variable  relative_importance  scaled_importance  percentage\n",
              "0        MARCA         13630.127930           1.000000    0.326260\n",
              "1        CLASE          8374.124023           0.614383    0.200449\n",
              "2        VALOR          4656.590820           0.341640    0.111463\n",
              "3         EDAD          4646.663574           0.340911    0.111226\n",
              "4       MODELO          4567.957031           0.335137    0.109342\n",
              "5         ZONA          3366.610840           0.246998    0.080586\n",
              "6         SEXO          1570.539307           0.115226    0.037594\n",
              "7  CLASEPOLIZA           964.244080           0.070744    0.023081"
            ]
          },
          "metadata": {
            "tags": []
          }
        },
        {
          "output_type": "stream",
          "text": [
            "\n"
          ],
          "name": "stdout"
        }
      ]
    },
    {
      "cell_type": "code",
      "metadata": {
        "id": "rda10gh_OB0O",
        "colab_type": "code",
        "colab": {
          "base_uri": "https://localhost:8080/",
          "height": 136
        },
        "outputId": "0b24fde0-b322-4459-b2ff-c2d23dd634a8"
      },
      "source": [
        "print(\"Actual\")\n",
        "actual = np.array(train[response])\n",
        "print(actual)\n",
        "\n",
        "pred_df = aml.leader.predict(train_h)\n",
        "predicted = np.array(pred_df.as_data_frame()[\"predict\"])\n",
        "print(\"predicted\")\n",
        "print(predicted)\n",
        "\n",
        "print(\"Obsreved MSE\")\n",
        "np.sum(np.square(actual-predicted))/len(predicted)"
      ],
      "execution_count": null,
      "outputs": [
        {
          "output_type": "stream",
          "text": [
            "Actual\n",
            "[ 0.716792  0.436689  4.301685 ... 11.368624  0.23993   0.258946]\n",
            "gbm prediction progress: |████████████████████████████████████████████████| 100%\n",
            "predicted\n",
            "[2.60080464 2.16966712 2.72571079 ... 3.33539414 2.85505774 2.80895967]\n",
            "Obsreved MSE\n"
          ],
          "name": "stdout"
        },
        {
          "output_type": "execute_result",
          "data": {
            "text/plain": [
              "11.46204957419672"
            ]
          },
          "metadata": {
            "tags": []
          },
          "execution_count": 29
        }
      ]
    },
    {
      "cell_type": "code",
      "metadata": {
        "id": "J4LyOiNlONWp",
        "colab_type": "code",
        "colab": {
          "base_uri": "https://localhost:8080/",
          "height": 612
        },
        "outputId": "6dd64be1-d6bd-4d68-9f0b-204de0846738"
      },
      "source": [
        "aml.leader.varimp_plot()"
      ],
      "execution_count": null,
      "outputs": [
        {
          "output_type": "display_data",
          "data": {
            "image/png": "[encoded data removed]",
            "text/plain": [
              "<Figure size 1008x720 with 1 Axes>"
            ]
          },
          "metadata": {
            "tags": [],
            "needs_background": "light"
          }
        }
      ]
    },
    {
      "cell_type": "code",
      "metadata": {
        "id": "uQzBim6xhVeq",
        "colab_type": "code",
        "colab": {
          "base_uri": "https://localhost:8080/",
          "height": 663
        },
        "outputId": "897be3b3-a176-4856-e0fa-2ff7e4c865a0"
      },
      "source": [
        "from h2o.automl import H2OAutoML\n",
        "\n",
        "predictors = [\"CLASE\",\"MARCA\",\"MODELO\",\"CLASEPOLIZA\",\"ZONA\",\"SEXO\",\"EDAD\",\"VALOR\"]\n",
        "response = \"MONTO\"\n",
        "\n",
        "aml = H2OAutoML(max_models=800, \n",
        "                seed=1, \n",
        "                max_runtime_secs=60*20,\n",
        "                nfolds = 5,\n",
        "                keep_cross_validation_predictions=True)\n",
        "\n",
        "aml.train(x=predictors, y=response, training_frame=train_h)\n",
        "\n",
        "# View the AutoML Leaderboard\n",
        "lb = aml.leaderboard\n",
        "lb.head(rows=lb.nrows)  # Print all rows instead of default (10 rows)\n",
        "\n",
        "aml.leader.save_mojo()\n",
        "\n",
        "print(aml.leader)"
      ],
      "execution_count": null,
      "outputs": [
        {
          "output_type": "stream",
          "text": [
            "AutoML progress: |████████████████████████████████████████████████████████| 100%\n",
            "Model Details\n",
            "=============\n",
            "H2OStackedEnsembleEstimator :  Stacked Ensemble\n",
            "Model Key:  StackedEnsemble_BestOfFamily_AutoML_20200818_131956\n",
            "\n",
            "No model summary for this model\n",
            "\n",
            "ModelMetricsRegressionGLM: stackedensemble\n",
            "** Reported on train data. **\n",
            "\n",
            "MSE: 11.16440988032357\n",
            "RMSE: 3.3413185840807773\n",
            "MAE: 2.165838277207737\n",
            "RMSLE: 0.6465690874084365\n",
            "R^2: 0.08971338906409321\n",
            "Mean Residual Deviance: 11.16440988032357\n",
            "Null degrees of freedom: 9888\n",
            "Residual degrees of freedom: 9884\n",
            "Null deviance: 121285.81040317116\n",
            "Residual deviance: 110404.84930651978\n",
            "AIC: 51935.263460134716\n",
            "\n",
            "ModelMetricsRegressionGLM: stackedensemble\n",
            "** Reported on cross-validation data. **\n",
            "\n",
            "MSE: 11.766384902377709\n",
            "RMSE: 3.43021645124294\n",
            "MAE: 2.260038817822499\n",
            "RMSLE: 0.6726150272402143\n",
            "R^2: 0.040631546981279354\n",
            "Mean Residual Deviance: 11.766384902377709\n",
            "Null degrees of freedom: 9888\n",
            "Residual degrees of freedom: 9884\n",
            "Null deviance: 121297.38246380785\n",
            "Residual deviance: 116357.78029961316\n",
            "AIC: 52454.591212910476\n",
            "\n"
          ],
          "name": "stdout"
        }
      ]
    },
    {
      "cell_type": "code",
      "metadata": {
        "id": "Ot1U-DX_Oc1v",
        "colab_type": "code",
        "colab": {
          "base_uri": "https://localhost:8080/",
          "height": 136
        },
        "outputId": "d8ed383a-a7fd-4831-ba06-61ce869c25cd"
      },
      "source": [
        "print(\"Actual\")\n",
        "actual = np.array(train[response])\n",
        "print(actual)\n",
        "\n",
        "pred_df = aml.leader.predict(train_h)\n",
        "predicted = np.array(pred_df.as_data_frame()[\"predict\"])\n",
        "print(\"predicted\")\n",
        "print(predicted)\n",
        "\n",
        "print(\"Obsreved MSE\")\n",
        "np.sum(np.square(actual-predicted))/len(predicted)"
      ],
      "execution_count": null,
      "outputs": [
        {
          "output_type": "stream",
          "text": [
            "Actual\n",
            "[ 0.716792  0.436689  4.301685 ... 11.368624  0.23993   0.258946]\n",
            "stackedensemble prediction progress: |████████████████████████████████████| 100%\n",
            "predicted\n",
            "[2.41201357 1.78199389 2.27171347 ... 3.2099267  2.1664022  2.36471124]\n",
            "Obsreved MSE\n"
          ],
          "name": "stdout"
        },
        {
          "output_type": "execute_result",
          "data": {
            "text/plain": [
              "11.164409883048968"
            ]
          },
          "metadata": {
            "tags": []
          },
          "execution_count": 32
        }
      ]
    },
    {
      "cell_type": "code",
      "metadata": {
        "id": "NLxSDVK8Oc_g",
        "colab_type": "code",
        "colab": {
          "base_uri": "https://localhost:8080/",
          "height": 299
        },
        "outputId": "8f5dedaf-7edb-4101-bb74-5584282747b6"
      },
      "source": [
        "aml.leader.varimp_plot()"
      ],
      "execution_count": null,
      "outputs": [
        {
          "output_type": "stream",
          "text": [
            "Warning: This model doesn't have variable importances\n"
          ],
          "name": "stdout"
        },
        {
          "output_type": "error",
          "ename": "TypeError",
          "evalue": "ignored",
          "traceback": [
            "\u001b[0;31m---------------------------------------------------------------------------\u001b[0m",
            "\u001b[0;31mTypeError\u001b[0m                                 Traceback (most recent call last)",
            "\u001b[0;32m<ipython-input-33-8da21ee1bfa5>\u001b[0m in \u001b[0;36m<module>\u001b[0;34m()\u001b[0m\n\u001b[0;32m----> 1\u001b[0;31m \u001b[0maml\u001b[0m\u001b[0;34m.\u001b[0m\u001b[0mleader\u001b[0m\u001b[0;34m.\u001b[0m\u001b[0mvarimp_plot\u001b[0m\u001b[0;34m(\u001b[0m\u001b[0;34m)\u001b[0m\u001b[0;34m\u001b[0m\u001b[0;34m\u001b[0m\u001b[0m\n\u001b[0m",
            "\u001b[0;32m/usr/local/lib/python3.6/dist-packages/h2o/model/model_base.py\u001b[0m in \u001b[0;36mvarimp_plot\u001b[0;34m(self, num_of_features, server)\u001b[0m\n\u001b[1;32m   1451\u001b[0m         \u001b[0mimportances\u001b[0m \u001b[0;34m=\u001b[0m \u001b[0mself\u001b[0m\u001b[0;34m.\u001b[0m\u001b[0mvarimp\u001b[0m\u001b[0;34m(\u001b[0m\u001b[0muse_pandas\u001b[0m\u001b[0;34m=\u001b[0m\u001b[0;32mFalse\u001b[0m\u001b[0;34m)\u001b[0m\u001b[0;34m\u001b[0m\u001b[0;34m\u001b[0m\u001b[0m\n\u001b[1;32m   1452\u001b[0m         \u001b[0;31m# features labels correspond to the first value of each tuple in the importances list\u001b[0m\u001b[0;34m\u001b[0m\u001b[0;34m\u001b[0m\u001b[0;34m\u001b[0m\u001b[0m\n\u001b[0;32m-> 1453\u001b[0;31m         \u001b[0mfeature_labels\u001b[0m \u001b[0;34m=\u001b[0m \u001b[0;34m[\u001b[0m\u001b[0mtup\u001b[0m\u001b[0;34m[\u001b[0m\u001b[0;36m0\u001b[0m\u001b[0;34m]\u001b[0m \u001b[0;32mfor\u001b[0m \u001b[0mtup\u001b[0m \u001b[0;32min\u001b[0m \u001b[0mimportances\u001b[0m\u001b[0;34m]\u001b[0m\u001b[0;34m\u001b[0m\u001b[0;34m\u001b[0m\u001b[0m\n\u001b[0m\u001b[1;32m   1454\u001b[0m         \u001b[0;31m# relative importances correspond to the first value of each tuple in the importances list\u001b[0m\u001b[0;34m\u001b[0m\u001b[0;34m\u001b[0m\u001b[0;34m\u001b[0m\u001b[0m\n\u001b[1;32m   1455\u001b[0m         \u001b[0mscaled_importances\u001b[0m \u001b[0;34m=\u001b[0m \u001b[0;34m[\u001b[0m\u001b[0mtup\u001b[0m\u001b[0;34m[\u001b[0m\u001b[0;36m2\u001b[0m\u001b[0;34m]\u001b[0m \u001b[0;32mfor\u001b[0m \u001b[0mtup\u001b[0m \u001b[0;32min\u001b[0m \u001b[0mimportances\u001b[0m\u001b[0;34m]\u001b[0m\u001b[0;34m\u001b[0m\u001b[0;34m\u001b[0m\u001b[0m\n",
            "\u001b[0;31mTypeError\u001b[0m: 'NoneType' object is not iterable"
          ]
        }
      ]
    },
    {
      "cell_type": "code",
      "metadata": {
        "id": "4zfTpKYkLhUS",
        "colab_type": "code",
        "colab": {}
      },
      "source": [
        "h2o.ls()\n",
        "h2o.shutdown()"
      ],
      "execution_count": null,
      "outputs": []
    },
    {
      "cell_type": "markdown",
      "metadata": {
        "id": "EfuBhlb5quuh",
        "colab_type": "text"
      },
      "source": [
        "## TPOT AutoML Models"
      ]
    },
    {
      "cell_type": "code",
      "metadata": {
        "id": "QTn2mPKbW-_y",
        "colab_type": "code",
        "colab": {}
      },
      "source": [
        "# Install tpot on the server\n",
        "!pip install tpot"
      ],
      "execution_count": null,
      "outputs": []
    },
    {
      "cell_type": "code",
      "metadata": {
        "id": "zLXK-W-Gi9ch",
        "colab_type": "code",
        "colab": {}
      },
      "source": [
        "import pandas as pd\n",
        "import numpy as np\n",
        "from sklearn.impute import SimpleImputer\n",
        "\n",
        "X = pd.read_csv('https://raw.githubusercontent.com/gjhernandezp/AutoMLInterpretabityCarInsurancePricing/master/SEVERIDAD.txt',sep='\\t')\n",
        "y = X[\"MONTO\"]\n",
        "y = np.array(y).reshape(-1, 1)\n",
        "X = X.drop('MONTO', axis=1)\n",
        "\n",
        "# https://stackoverflow.com/questions/49822035/categorical-data-with-tpot\n",
        "X = pd.get_dummies(X).values\n",
        "X = np.array(X)\n",
        "\n",
        "print(X.shape)\n",
        "print(y.shape)"
      ],
      "execution_count": null,
      "outputs": []
    },
    {
      "cell_type": "code",
      "metadata": {
        "id": "BlEg1Upb-cfr",
        "colab_type": "code",
        "colab": {}
      },
      "source": [
        "# Import the tpot classifier \n",
        "from tpot import TPOTRegressor\n",
        "\n",
        "# Create a tpot object with a few parameters\n",
        "tpot = TPOTRegressor(scoring = 'accuracy', \n",
        "                    max_time_mins = 20, \n",
        "                    n_jobs = -1,\n",
        "                    verbosity = 2,\n",
        "                    cv = 5)"
      ],
      "execution_count": null,
      "outputs": []
    },
    {
      "cell_type": "code",
      "metadata": {
        "id": "17SbSKs-Qg2-",
        "colab_type": "code",
        "colab": {}
      },
      "source": [
        "# Fit the tpot model on the training data\n",
        "tpot.fit(X, y)\n",
        "tpot_best_model = tpot.fitted_pipeline_\n",
        "print(tpot_best_model)\n",
        "# Export the pipeline as a python script file\n",
        "tpot.export('tpot_exported_pipeline1.py')\n",
        "\n",
        "# Show the final model\n",
        "print(tpot.fitted_pipeline_)"
      ],
      "execution_count": null,
      "outputs": []
    },
    {
      "cell_type": "code",
      "metadata": {
        "id": "MbipRsC59T7z",
        "colab_type": "code",
        "colab": {}
      },
      "source": [
        "from sklearn.model_selection import cross_val_score\n",
        "tpot_best_model = tpot.fitted_pipeline_\n",
        "\n",
        "# Evaluate the final model \n",
        "print(tpot.score(X, y))\n",
        "\n",
        "cross_val5 = cross_val_score(tpot_best_model, X, y, scoring='accuracy', cv=5)\n",
        "print(cross_val5)\n",
        "print(cross_val5.mean())\n",
        "\n",
        "cross_val10 = cross_val_score(tpot_best_model, X, y, scoring='accuracy', cv=10)\n",
        "print(cross_val10)\n",
        "print(cross_val10.mean())"
      ],
      "execution_count": null,
      "outputs": []
    },
    {
      "cell_type": "code",
      "metadata": {
        "id": "DIAlUwLkcZpE",
        "colab_type": "code",
        "colab": {}
      },
      "source": [
        "# Fit the tpot model on the training data\n",
        "tpot.fit(X, y)\n",
        "tpot_best_model = tpot.fitted_pipeline_\n",
        "print(tpot_best_model)\n",
        "# Export the pipeline as a python script file\n",
        "tpot.export('tpot_exported_pipeline2.py')\n",
        "\n",
        "# Show the final model\n",
        "print(tpot.fitted_pipeline_)"
      ],
      "execution_count": null,
      "outputs": []
    },
    {
      "cell_type": "code",
      "metadata": {
        "id": "sROLaAg_CQnh",
        "colab_type": "code",
        "colab": {}
      },
      "source": [
        "from sklearn.model_selection import cross_val_score\n",
        "tpot_best_model = tpot.fitted_pipeline_\n",
        "\n",
        "# Evaluate the final model \n",
        "print(tpot.score(X, y))\n",
        "\n",
        "cross_val5 = cross_val_score(tpot_best_model, X, y, scoring='accuracy', cv=5)\n",
        "print(cross_val5)\n",
        "print(cross_val5.mean())\n",
        "\n",
        "cross_val10 = cross_val_score(tpot_best_model, X, y, scoring='accuracy', cv=10)\n",
        "print(cross_val10)\n",
        "print(cross_val10.mean())"
      ],
      "execution_count": null,
      "outputs": []
    },
    {
      "cell_type": "code",
      "metadata": {
        "id": "wUhmu7HECUTn",
        "colab_type": "code",
        "colab": {}
      },
      "source": [
        "# Fit the tpot model on the training data\n",
        "tpot.fit(X, y)\n",
        "tpot_best_model = tpot.fitted_pipeline_\n",
        "print(tpot_best_model)\n",
        "# Export the pipeline as a python script file\n",
        "tpot.export('tpot_exported_pipeline3.py')\n",
        "\n",
        "# Show the final model\n",
        "print(tpot.fitted_pipeline_)"
      ],
      "execution_count": null,
      "outputs": []
    },
    {
      "cell_type": "code",
      "metadata": {
        "id": "9DHyJn54CUXG",
        "colab_type": "code",
        "colab": {}
      },
      "source": [
        "from sklearn.model_selection import cross_val_score\n",
        "tpot_best_model = tpot.fitted_pipeline_\n",
        "\n",
        "# Evaluate the final model \n",
        "print(tpot.score(X, y))\n",
        "\n",
        "cross_val5 = cross_val_score(tpot_best_model, X, y, scoring='accuracy', cv=5)\n",
        "print(cross_val5)\n",
        "print(cross_val5.mean())\n",
        "\n",
        "cross_val10 = cross_val_score(tpot_best_model, X, y, scoring='accuracy', cv=10)\n",
        "print(cross_val10)\n",
        "print(cross_val10.mean())"
      ],
      "execution_count": null,
      "outputs": []
    }
  ]
}